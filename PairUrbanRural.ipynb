{
 "cells": [
  {
   "cell_type": "code",
   "execution_count": 2,
   "metadata": {
    "collapsed": true
   },
   "outputs": [],
   "source": [
    "# import libraries\n",
    "%matplotlib inline\n",
    "import numpy as np\n",
    "import csv\n",
    "import matplotlib.pyplot as plt\n",
    "import pandas as pd\n",
    "import glob\n",
    "import ulmo\n",
    "import os"
   ]
  },
  {
   "cell_type": "code",
   "execution_count": 4,
   "metadata": {
    "collapsed": false
   },
   "outputs": [],
   "source": [
    "ghcn = pd.read_fwf('data/ghcnd-stations.txt', colspecs = [(0,10), (12,19), (21,29), (31,36),(38,39), (41,70), (72,74),(76,78),(80,84)], header = None) \n",
    "colnames = ['GHCN ID', 'lat', 'lon', 'elevation', 'state', 'name', 'gsn flag', 'HCN/CRN FLAG', 'WMO ID']\n",
    "ghcn.columns = colnames\n",
    "\n",
    "# from http://www1.ncdc.noaa.gov/pub/data/ghcn/daily/readme.txt\n",
    "# FORMAT OF \"ghcnd-stations.txt\"\n",
    "#\n",
    "# ------------------------------\n",
    "# Variable   Columns   Type\n",
    "# ------------------------------\n",
    "# ID            1-11   Character\n",
    "# LATITUDE     13-20   Real\n",
    "# LONGITUDE    22-30   Real\n",
    "# ELEVATION    32-37   Real\n",
    "# STATE        39-40   Character\n",
    "# NAME         42-71   Character\n",
    "# GSN FLAG     73-75   Character\n",
    "# HCN/CRN FLAG 77-79   Character\n",
    "# WMO ID       81-85   Character\n",
    "# ------------------------------\n",
    "\n",
    "# These variables have the following definitions:\n",
    "\n",
    "# ID         is the station identification code.  Note that the first two\n",
    "#            characters denote the FIPS  country code, the third character \n",
    "#            is a network code that identifies the station numbering system \n",
    "#            used, and the remaining eight characters contain the actual \n",
    "#            station ID. \n",
    "\n",
    "#            See \"ghcnd-countries.txt\" for a complete list of country codes.\n",
    "# \t   See \"ghcnd-states.txt\" for a list of state/province/territory codes.\n",
    "\n",
    "#            The network code  has the following five values:\n",
    "\n",
    "#            0 = unspecified (station identified by up to eight \n",
    "# \t       alphanumeric characters)\n",
    "# \t   1 = Community Collaborative Rain, Hail,and Snow (CoCoRaHS)\n",
    "# \t       based identification number.  To ensure consistency with\n",
    "# \t       with GHCN Daily, all numbers in the original CoCoRaHS IDs\n",
    "# \t       have been left-filled to make them all four digits long. \n",
    "# \t       In addition, the characters \"-\" and \"_\" have been removed \n",
    "# \t       to ensure that the IDs do not exceed 11 characters when \n",
    "# \t       preceded by \"US1\". For example, the CoCoRaHS ID \n",
    "# \t       \"AZ-MR-156\" becomes \"US1AZMR0156\" in GHCN-Daily\n",
    "#            C = U.S. Cooperative Network identification number (last six \n",
    "#                characters of the GHCN-Daily ID)\n",
    "# \t   E = Identification number used in the ECA&D non-blended\n",
    "# \t       dataset\n",
    "# \t   M = World Meteorological Organization ID (last five\n",
    "# \t       characters of the GHCN-Daily ID)\n",
    "# \t   N = Identification number used in data supplied by a \n",
    "# \t       National Meteorological or Hydrological Center\n",
    "# \t   R = U.S. Interagency Remote Automatic Weather Station (RAWS)\n",
    "# \t       identifier\n",
    "# \t   S = U.S. Natural Resources Conservation Service SNOwpack\n",
    "# \t       TELemtry (SNOTEL) station identifier\n",
    "#            W = WBAN identification number (last five characters of the \n",
    "#                GHCN-Daily ID)\n",
    "\n",
    "# LATITUDE   is latitude of the station (in decimal degrees).\n",
    "\n",
    "# LONGITUDE  is the longitude of the station (in decimal degrees).\n",
    "\n",
    "# ELEVATION  is the elevation of the station (in meters, missing = -999.9).\n",
    "\n",
    "\n",
    "# STATE      is the U.S. postal code for the state (for U.S. stations only).\n",
    "\n",
    "# NAME       is the name of the station.\n",
    "\n",
    "# GSN FLAG   is a flag that indicates whether the station is part of the GCOS\n",
    "#            Surface Network (GSN). The flag is assigned by cross-referencing \n",
    "#            the number in the WMOID field with the official list of GSN \n",
    "#            stations. There are two possible values:\n",
    "\n",
    "#            Blank = non-GSN station or WMO Station number not available\n",
    "#            GSN   = GSN station \n",
    "\n",
    "# HCN/      is a flag that indicates whether the station is part of the U.S.\n",
    "# CRN FLAG  Historical Climatology Network (HCN).  There are three possible \n",
    "#           values:\n",
    "\n",
    "#            Blank = Not a member of the U.S. Historical Climatology \n",
    "# \t           or U.S. Climate Reference Networks\n",
    "#            HCN   = U.S. Historical Climatology Network station\n",
    "# \t   CRN   = U.S. Climate Reference Network or U.S. Regional Climate \n",
    "# \t           Network Station\n",
    "\n",
    "# WMO ID     is the World Meteorological Organization (WMO) number for the\n",
    "#            station.  If the station has no WMO number (or one has not yet \n",
    "# \t   been matched to this station), then the field is blank.\n",
    "\n",
    "# --------------------------------------------------------------------------------\n",
    "# --------------------------------------------------------------------------------\n",
    "\n",
    "giss = pd.read_fwf('data/v3.temperature.inv.txt',skiprows = 39, header = None,\n",
    "                  colspecs=[(0,3),(3,8),(8,12), (12,44),(44,49), (52,58), (58,63), (63,67), (67,68), (69,73), (73,75), (75, 77), (78,79), (79,81), (81,82),(82,84), (84,100), (100,102), (103,106)])\n",
    "colnames = ['icc country code', 'WMO ID', '3 digit modifier', 'name','lat', 'lon', 'elevation', 'TELe', 'P', 'Pop', 'Tp', 'V', 'Lo', 'Co', 'Airport', 'ds', 'Vege', 'bi', 'BI']\n",
    "giss.columns = colnames\n",
    "\n",
    "# LEGEND  \n",
    "# ======\n",
    "# icc  =3 digit country code; the first digit represents WMO region/continent\n",
    "# WMO_#=5 digit WMO station number\n",
    "# ...  =3 digit modifier; 000 means the station is probably the WMO\n",
    "#       station; 001, etc. mean the station is near that WMO station\n",
    "# Name =30 character station name\n",
    "# Lat  =latitude in degrees, negative = South of Equator\n",
    "# Lon  =longitude in degrees, negative = West of Greenwich (England)\n",
    "# Elev =station elevation in meters, missing is -999\n",
    "# TEle =station elevation interpolated from TerrainBase gridded data set\n",
    "# P    =R if rural (not associated with a town of >10,000 population)\n",
    "#       S if associated with a small town (10,000-50,000 population)\n",
    "#       U if associated with an urban area (>50,000 population)\n",
    "# Pop  =population of the small town or urban area in 1000s\n",
    "#       If rural, no analysis:  -9.\n",
    "# Tp   =general topography around the station:  FL flat; HI hilly,\n",
    "#       MT mountain top; MV mountainous valley or at least not on the top\n",
    "#       of a mountain.\n",
    "# V    =general vegetation near the station based on Operational\n",
    "#       Navigation Charts;  MA marsh; FO forested; IC ice; DE desert;\n",
    "#       CL clear or open;  xx information not provided\n",
    "# Lo   =CO if station is within 30 km from the coast\n",
    "#       LA if station is next to a large (> 25 km**2) lake\n",
    "#       no if neither of the above\n",
    "#       Note: Stations which are both CO and LA will be marked CO\n",
    "# Co   =distance in km to the coast if Lo=CO, else -9\n",
    "# A    =A if the station is at an airport; else x\n",
    "# ds   =distance in km from the airport to its associated\n",
    "#       small town or urban center (not relevant for rural airports\n",
    "#       or non airport stations in which case ds=-9)\n",
    "# Vege =gridded vegetation for the 0.5x0.5 degree grid point closest\n",
    "#       to the station from a gridded vegetation data base. 16 characters.\n",
    "# bi   =brightness index    A=dark B=dim C=bright   (comment added by R.Ruedy)\n",
    "# BI   =brightness index    0=dark -> 256 =bright   (based on satellite night light data)"
   ]
  },
  {
   "cell_type": "code",
   "execution_count": 18,
   "metadata": {
    "collapsed": false
   },
   "outputs": [
    {
     "data": {
      "text/html": [
       "<div>\n",
       "<table border=\"1\" class=\"dataframe\">\n",
       "  <thead>\n",
       "    <tr style=\"text-align: right;\">\n",
       "      <th></th>\n",
       "      <th>icc country code</th>\n",
       "      <th>WMO ID</th>\n",
       "      <th>3 digit modifier</th>\n",
       "      <th>name</th>\n",
       "      <th>lat</th>\n",
       "      <th>lon</th>\n",
       "      <th>elevation</th>\n",
       "      <th>TELe</th>\n",
       "      <th>P</th>\n",
       "      <th>Pop</th>\n",
       "      <th>Tp</th>\n",
       "      <th>V</th>\n",
       "      <th>Lo</th>\n",
       "      <th>Co</th>\n",
       "      <th>Airport</th>\n",
       "      <th>ds</th>\n",
       "      <th>Vege</th>\n",
       "      <th>bi</th>\n",
       "      <th>BI</th>\n",
       "    </tr>\n",
       "  </thead>\n",
       "  <tbody>\n",
       "    <tr>\n",
       "      <th>513</th>\n",
       "      <td>141</td>\n",
       "      <td>68858</td>\n",
       "      <td>0</td>\n",
       "      <td>EAST LONDON                    -</td>\n",
       "      <td>33.03</td>\n",
       "      <td>27.83</td>\n",
       "      <td>125</td>\n",
       "      <td>93</td>\n",
       "      <td>U</td>\n",
       "      <td>127</td>\n",
       "      <td>HI</td>\n",
       "      <td>xx</td>\n",
       "      <td>O</td>\n",
       "      <td>5</td>\n",
       "      <td>A</td>\n",
       "      <td>5</td>\n",
       "      <td>COASTAL EDGES</td>\n",
       "      <td>C</td>\n",
       "      <td>15</td>\n",
       "    </tr>\n",
       "    <tr>\n",
       "      <th>7219</th>\n",
       "      <td>651</td>\n",
       "      <td>3776</td>\n",
       "      <td>0</td>\n",
       "      <td>LONDON/GATWIC</td>\n",
       "      <td>51.15</td>\n",
       "      <td>-0.18</td>\n",
       "      <td>62</td>\n",
       "      <td>73</td>\n",
       "      <td>U</td>\n",
       "      <td>2332</td>\n",
       "      <td>HI</td>\n",
       "      <td>xx</td>\n",
       "      <td>o</td>\n",
       "      <td>-9</td>\n",
       "      <td>A</td>\n",
       "      <td>15</td>\n",
       "      <td>WARM CROPS</td>\n",
       "      <td>C</td>\n",
       "      <td>29</td>\n",
       "    </tr>\n",
       "  </tbody>\n",
       "</table>\n",
       "</div>"
      ],
      "text/plain": [
       "      icc country code  WMO ID  3 digit modifier  \\\n",
       "513                141   68858                 0   \n",
       "7219               651    3776                 0   \n",
       "\n",
       "                                  name    lat    lon  elevation  TELe  P  \\\n",
       "513   EAST LONDON                    -  33.03  27.83        125    93  U   \n",
       "7219                     LONDON/GATWIC  51.15  -0.18         62    73  U   \n",
       "\n",
       "       Pop  Tp   V Lo  Co Airport  ds           Vege bi  BI  \n",
       "513    127  HI  xx  O   5       A   5  COASTAL EDGES  C  15  \n",
       "7219  2332  HI  xx  o  -9       A  15     WARM CROPS  C  29  "
      ]
     },
     "execution_count": 18,
     "metadata": {},
     "output_type": "execute_result"
    }
   ],
   "source": [
    "giss[(giss.name.str.contains(city) )& (giss['3 digit modifier']==0)]"
   ]
  },
  {
   "cell_type": "code",
   "execution_count": 16,
   "metadata": {
    "collapsed": false
   },
   "outputs": [],
   "source": [
    "# given city, look up point\n",
    "city = 'LONDON'\n",
    "stationID = giss[(giss.name.str.contains(city) )& (giss['3 digit modifier']==0)]['WMO ID'].values[1]"
   ]
  },
  {
   "cell_type": "code",
   "execution_count": null,
   "metadata": {
    "collapsed": false
   },
   "outputs": [],
   "source": []
  },
  {
   "cell_type": "code",
   "execution_count": 20,
   "metadata": {
    "collapsed": false
   },
   "outputs": [],
   "source": [
    "from shapely.geometry import Point\n",
    "station1 = Point(giss[giss['WMO ID']== stationID]['lon'], giss[giss['WMO ID']== stationID]['lat'] )"
   ]
  },
  {
   "cell_type": "code",
   "execution_count": 22,
   "metadata": {
    "collapsed": false
   },
   "outputs": [
    {
     "data": {
      "image/svg+xml": [
       "<svg xmlns=\"http://www.w3.org/2000/svg\" xmlns:xlink=\"http://www.w3.org/1999/xlink\" width=\"100.0\" height=\"100.0\" viewBox=\"-2.34 48.99 4.32 4.32\" preserveAspectRatio=\"xMinYMin meet\"><g transform=\"matrix(1,0,0,-1,0,102.3)\"><path fill-rule=\"evenodd\" fill=\"#66cc99\" stroke=\"#555555\" stroke-width=\"0.0864\" opacity=\"0.6\" d=\"M 1.82,51.15 L 1.81036945334,50.9539657193 L 1.78157056081,50.759819356 L 1.73388067146,50.5694306455 L 1.66775906502,50.3846331353 L 1.5838425287,50.2072065263 L 1.48293922461,50.038859534 L 1.36602090673,49.8812134317 L 1.23421356237,49.7357864376 L 1.08878656833,49.6039790933 L 0.931140466039,49.4870607754 L 0.762793473652,49.3861574713 L 0.58536686473,49.302240935 L 0.400569354509,49.2361193285 L 0.210180644032,49.1884294392 L 0.0160342806591,49.1596305467 L -0.18,49.15 L -0.376034280659,49.1596305467 L -0.570180644032,49.1884294392 L -0.760569354509,49.2361193285 L -0.94536686473,49.302240935 L -1.12279347365,49.3861574713 L -1.29114046604,49.4870607754 L -1.44878656833,49.6039790933 L -1.59421356237,49.7357864376 L -1.72602090673,49.8812134317 L -1.84293922461,50.038859534 L -1.9438425287,50.2072065263 L -2.02775906502,50.3846331353 L -2.09388067146,50.5694306455 L -2.14157056081,50.759819356 L -2.17036945334,50.9539657193 L -2.18,51.15 L -2.17036945334,51.3460342807 L -2.14157056081,51.540180644 L -2.09388067146,51.7305693545 L -2.02775906502,51.9153668647 L -1.9438425287,52.0927934737 L -1.84293922461,52.261140466 L -1.72602090673,52.4187865683 L -1.59421356237,52.5642135624 L -1.44878656833,52.6960209067 L -1.29114046604,52.8129392246 L -1.12279347365,52.9138425287 L -0.94536686473,52.997759065 L -0.760569354509,53.0638806715 L -0.570180644032,53.1115705608 L -0.376034280659,53.1403694533 L -0.18,53.15 L 0.0160342806591,53.1403694533 L 0.210180644032,53.1115705608 L 0.400569354509,53.0638806715 L 0.58536686473,52.997759065 L 0.762793473652,52.9138425287 L 0.931140466039,52.8129392246 L 1.08878656833,52.6960209067 L 1.23421356237,52.5642135624 L 1.36602090673,52.4187865683 L 1.48293922461,52.261140466 L 1.5838425287,52.0927934737 L 1.66775906502,51.9153668647 L 1.73388067146,51.7305693545 L 1.78157056081,51.540180644 L 1.81036945334,51.3460342807 L 1.82,51.15 L 1.82,51.15 z\" /></g></svg>"
      ],
      "text/plain": [
       "<shapely.geometry.polygon.Polygon at 0x11418d0d0>"
      ]
     },
     "execution_count": 22,
     "metadata": {},
     "output_type": "execute_result"
    }
   ],
   "source": [
    "station1.buffer(2)"
   ]
  },
  {
   "cell_type": "code",
   "execution_count": null,
   "metadata": {
    "collapsed": true
   },
   "outputs": [],
   "source": []
  }
 ],
 "metadata": {
  "kernelspec": {
   "display_name": "Python 2",
   "language": "python",
   "name": "python2"
  },
  "language_info": {
   "codemirror_mode": {
    "name": "ipython",
    "version": 2
   },
   "file_extension": ".py",
   "mimetype": "text/x-python",
   "name": "python",
   "nbconvert_exporter": "python",
   "pygments_lexer": "ipython2",
   "version": "2.7.11"
  }
 },
 "nbformat": 4,
 "nbformat_minor": 0
}
