{
 "cells": [
  {
   "cell_type": "code",
   "execution_count": 1,
   "metadata": {
    "collapsed": true
   },
   "outputs": [],
   "source": [
    "# import libraries\n",
    "%matplotlib inline\n",
    "import numpy as np\n",
    "#import csv\n",
    "import matplotlib.pyplot as plt\n",
    "import pandas as pd\n",
    "import glob\n",
    "import ulmo\n",
    "import os\n",
    "import scipy.spatial"
   ]
  },
  {
   "cell_type": "code",
   "execution_count": 2,
   "metadata": {
    "collapsed": false
   },
   "outputs": [],
   "source": [
    "ghcn = pd.read_fwf('data/ghcnd-stations.txt', colspecs = [(0,10), (12,19), (21,29), (31,36),(38,40), (41,70), (72,74),(76,78),(80,85)], header = None) \n",
    "colnames = ['GHCN ID', 'lat', 'lon', 'elevation', 'state', 'name', 'gsn flag', 'HCN/CRN FLAG', 'WMO ID']\n",
    "ghcn.columns = colnames\n",
    "\n",
    "# from http://www1.ncdc.noaa.gov/pub/data/ghcn/daily/readme.txt\n",
    "# FORMAT OF \"ghcnd-stations.txt\"\n",
    "#\n",
    "# ------------------------------\n",
    "# Variable   Columns   Type\n",
    "# ------------------------------\n",
    "# ID            1-11   Character\n",
    "# LATITUDE     13-20   Real\n",
    "# LONGITUDE    22-30   Real\n",
    "# ELEVATION    32-37   Real\n",
    "# STATE        39-40   Character\n",
    "# NAME         42-71   Character\n",
    "# GSN FLAG     73-75   Character\n",
    "# HCN/CRN FLAG 77-79   Character\n",
    "# WMO ID       81-85   Character\n",
    "# ------------------------------\n",
    "\n",
    "# These variables have the following definitions:\n",
    "\n",
    "# ID         is the station identification code.  Note that the first two\n",
    "#            characters denote the FIPS  country code, the third character \n",
    "#            is a network code that identifies the station numbering system \n",
    "#            used, and the remaining eight characters contain the actual \n",
    "#            station ID. \n",
    "\n",
    "#            See \"ghcnd-countries.txt\" for a complete list of country codes.\n",
    "# \t   See \"ghcnd-states.txt\" for a list of state/province/territory codes.\n",
    "\n",
    "#            The network code  has the following five values:\n",
    "\n",
    "#            0 = unspecified (station identified by up to eight \n",
    "# \t       alphanumeric characters)\n",
    "# \t   1 = Community Collaborative Rain, Hail,and Snow (CoCoRaHS)\n",
    "# \t       based identification number.  To ensure consistency with\n",
    "# \t       with GHCN Daily, all numbers in the original CoCoRaHS IDs\n",
    "# \t       have been left-filled to make them all four digits long. \n",
    "# \t       In addition, the characters \"-\" and \"_\" have been removed \n",
    "# \t       to ensure that the IDs do not exceed 11 characters when \n",
    "# \t       preceded by \"US1\". For example, the CoCoRaHS ID \n",
    "# \t       \"AZ-MR-156\" becomes \"US1AZMR0156\" in GHCN-Daily\n",
    "#            C = U.S. Cooperative Network identification number (last six \n",
    "#                characters of the GHCN-Daily ID)\n",
    "# \t   E = Identification number used in the ECA&D non-blended\n",
    "# \t       dataset\n",
    "# \t   M = World Meteorological Organization ID (last five\n",
    "# \t       characters of the GHCN-Daily ID)\n",
    "# \t   N = Identification number used in data supplied by a \n",
    "# \t       National Meteorological or Hydrological Center\n",
    "# \t   R = U.S. Interagency Remote Automatic Weather Station (RAWS)\n",
    "# \t       identifier\n",
    "# \t   S = U.S. Natural Resources Conservation Service SNOwpack\n",
    "# \t       TELemtry (SNOTEL) station identifier\n",
    "#            W = WBAN identification number (last five characters of the \n",
    "#                GHCN-Daily ID)\n",
    "\n",
    "# LATITUDE   is latitude of the station (in decimal degrees).\n",
    "\n",
    "# LONGITUDE  is the longitude of the station (in decimal degrees).\n",
    "\n",
    "# ELEVATION  is the elevation of the station (in meters, missing = -999.9).\n",
    "\n",
    "\n",
    "# STATE      is the U.S. postal code for the state (for U.S. stations only).\n",
    "\n",
    "# NAME       is the name of the station.\n",
    "\n",
    "# GSN FLAG   is a flag that indicates whether the station is part of the GCOS\n",
    "#            Surface Network (GSN). The flag is assigned by cross-referencing \n",
    "#            the number in the WMOID field with the official list of GSN \n",
    "#            stations. There are two possible values:\n",
    "\n",
    "#            Blank = non-GSN station or WMO Station number not available\n",
    "#            GSN   = GSN station \n",
    "\n",
    "# HCN/      is a flag that indicates whether the station is part of the U.S.\n",
    "# CRN FLAG  Historical Climatology Network (HCN).  There are three possible \n",
    "#           values:\n",
    "\n",
    "#            Blank = Not a member of the U.S. Historical Climatology \n",
    "# \t           or U.S. Climate Reference Networks\n",
    "#            HCN   = U.S. Historical Climatology Network station\n",
    "# \t   CRN   = U.S. Climate Reference Network or U.S. Regional Climate \n",
    "# \t           Network Station\n",
    "\n",
    "# WMO ID     is the World Meteorological Organization (WMO) number for the\n",
    "#            station.  If the station has no WMO number (or one has not yet \n",
    "# \t   been matched to this station), then the field is blank.\n",
    "\n",
    "# --------------------------------------------------------------------------------\n",
    "# --------------------------------------------------------------------------------\n",
    "giss = pd.read_fwf('data/v3.temperature.inv.txt',skiprows = 39, header = None,\n",
    "                  colspecs=[(0,3),(3,8),(8,11), (12,44),(44,49), (52,58), (58,63), (63,67), (67,68), (69,73), (73,75), (75, 77), (78,79), (79,81), (81,82),(82,84), (84,100), (100,102), (103,106)])\n",
    "colnames = ['icc country code', 'WMO ID', '3 digit modifier', 'name','lat', 'lon', 'elevation', 'TELe', 'P', 'Pop', 'Tp', 'V', 'Lo', 'Co', 'Airport', 'ds', 'Vege', 'bi', 'BI']\n",
    "giss.columns = colnames\n",
    "\n",
    "# LEGEND  \n",
    "# ======\n",
    "# icc  =3 digit country code; the first digit represents WMO region/continent\n",
    "# WMO_#=5 digit WMO station number\n",
    "# ...  =3 digit modifier; 000 means the station is probably the WMO\n",
    "#       station; 001, etc. mean the station is near that WMO station\n",
    "# Name =30 character station name\n",
    "# Lat  =latitude in degrees, negative = South of Equator\n",
    "# Lon  =longitude in degrees, negative = West of Greenwich (England)\n",
    "# Elev =station elevation in meters, missing is -999\n",
    "# TEle =station elevation interpolated from TerrainBase gridded data set\n",
    "# P    =R if rural (not associated with a town of >10,000 population)\n",
    "#       S if associated with a small town (10,000-50,000 population)\n",
    "#       U if associated with an urban area (>50,000 population)\n",
    "# Pop  =population of the small town or urban area in 1000s\n",
    "#       If rural, no analysis:  -9.\n",
    "# Tp   =general topography around the station:  FL flat; HI hilly,\n",
    "#       MT mountain top; MV mountainous valley or at least not on the top\n",
    "#       of a mountain.\n",
    "# V    =general vegetation near the station based on Operational\n",
    "#       Navigation Charts;  MA marsh; FO forested; IC ice; DE desert;\n",
    "#       CL clear or open;  xx information not provided\n",
    "# Lo   =CO if station is within 30 km from the coast\n",
    "#       LA if station is next to a large (> 25 km**2) lake\n",
    "#       no if neither of the above\n",
    "#       Note: Stations which are both CO and LA will be marked CO\n",
    "# Co   =distance in km to the coast if Lo=CO, else -9\n",
    "# A    =A if the station is at an airport; else x\n",
    "# ds   =distance in km from the airport to its associated\n",
    "#       small town or urban center (not relevant for rural airports\n",
    "#       or non airport stations in which case ds=-9)\n",
    "# Vege =gridded vegetation for the 0.5x0.5 degree grid point closest\n",
    "#       to the station from a gridded vegetation data base. 16 characters.\n",
    "# bi   =brightness index    A=dark B=dim C=bright   (comment added by R.Ruedy)\n",
    "# BI   =brightness index    0=dark -> 256 =bright   (based on satellite night light data)"
   ]
  },
  {
   "cell_type": "markdown",
   "metadata": {
    "collapsed": false
   },
   "source": [
    "see: http://stackoverflow.com/questions/35296935/python-calculate-lots-of-distances-quickly"
   ]
  },
  {
   "cell_type": "code",
   "execution_count": 201,
   "metadata": {
    "collapsed": false
   },
   "outputs": [],
   "source": [
    "# compute distances between all stations\n",
    "#tree = scipy.spatial.cKDTree(giss[['lon', 'lat']].values, leafsize=100)\n",
    "# query the closest point \n",
    "#closestInd = tree.query(giss[['lon', 'lat']].values[11,:], k =2, distance_upper_bound=6)[1][1]"
   ]
  },
  {
   "cell_type": "code",
   "execution_count": 7,
   "metadata": {
    "collapsed": false
   },
   "outputs": [],
   "source": [
    "atlas = pd.read_csv('data/sampleAtlas.csv') # derived  from http://www.naturalearthdata.com/downloads/10m-cultural-vectors/10m-populated-places/\n",
    "tree = scipy.spatial.cKDTree(ghcn[['lon', 'lat']].values, leafsize=100)\n",
    "import sys\n",
    "#sys.path.append('/../cityheat/Bmore/2015/')\n",
    "#sys.path.append('/Users/annascott2/mountpoint/cityheat/Bmore/2015/')\n",
    "#import spatialfunctions\n",
    "BI = np.load('data/brightnessGHCN.npy')"
   ]
  },
  {
   "cell_type": "code",
   "execution_count": 92,
   "metadata": {
    "collapsed": false,
    "scrolled": true
   },
   "outputs": [],
   "source": [
    "frames = []\n",
    "\n",
    "for i in range(0, atlas.shape[0]): \n",
    "    lat = atlas.iloc[i]['lat']\n",
    "    lon = atlas.iloc[i]['lng']\n",
    "    city = atlas.iloc[i]['city']\n",
    "    # look up the closest k stations within the distance_upper_bound\n",
    "    closeststations = tree.query([lon,lat], k =15, distance_upper_bound=.5)\n",
    "    # Make sure the closest stations are within a finite distance\n",
    "    closestInds = closeststations[1][~np.isinf(closeststations[0])]\n",
    "    # If there are no stations, skip. Otherwise, \n",
    "    if closestInds.shape[0] != 0: \n",
    "        #lons = ghcn.iloc[closestInds]['lon'].values\n",
    "        #lats = ghcn.iloc[closestInds]['lat'].values\n",
    "        urban = BI[closestInds].argmax()\n",
    "        rural = BI[closestInds].argmin()\n",
    "        if urban != rural: \n",
    "#             d = {'City': city, \n",
    "#              'Urban Station': ghcn.iloc[closestInds].iloc[urban]['GHCN ID'],\n",
    "#               'Urban Brighntess': BI[closestInds].max(), \n",
    "#               'Rural Station': ghcn.iloc[closestInds].iloc[rural]['GHCN ID'],\n",
    "#               'Rural Brightness': BI[closestInds].min()}\n",
    "            #frames.append(d)\n",
    "            frames.append([city, ghcn.iloc[closestInds].iloc[urban]['GHCN ID'] ,BI[closestInds].max(), ghcn.iloc[closestInds].iloc[rural]['GHCN ID'],BI[closestInds].min()])"
   ]
  },
  {
   "cell_type": "code",
   "execution_count": 93,
   "metadata": {
    "collapsed": false,
    "scrolled": true
   },
   "outputs": [
    {
     "data": {
      "text/plain": [
       "[['Sydney', 'ASN0006602', 63.0, 'ASN0006603', 61.0],\n",
       " ['Philadelphia', 'USC0036691', 63.0, 'US1PAPH000', 62.0],\n",
       " ['Detroit', 'US1MIWY003', 63.0, 'CA1ON00010', 61.0],\n",
       " ['Anchorage', 'USC0050028', 63.0, 'USC0050027', 62.0],\n",
       " ['San Francisco', 'USC0004776', 63.0, 'USW0002323', 16.0],\n",
       " ['Miami', 'USC0008565', 63.0, 'US1FLMD002', 60.0],\n",
       " ['Atlanta', 'US1GAFT000', 63.0, 'USC0009660', 62.0],\n",
       " ['Paris', 'FR00000715', 63.0, 'FRE0010498', 57.0],\n",
       " ['Helsinki', 'FIE0014223', 63.0, 'FIE0014231', 11.0],\n",
       " ['Lyon', 'FR06902900', 63.0, 'FRM0000748', 61.0],\n",
       " ['Nairobi', 'KE00006374', 61.0, 'KEM0006374', 53.0],\n",
       " ['San Juan', 'RQC0066184', 63.0, 'RQ1PRGB000', 41.0]]"
      ]
     },
     "execution_count": 93,
     "metadata": {},
     "output_type": "execute_result"
    }
   ],
   "source": [
    "frames"
   ]
  },
  {
   "cell_type": "code",
   "execution_count": null,
   "metadata": {
    "collapsed": true
   },
   "outputs": [],
   "source": []
  },
  {
   "cell_type": "code",
   "execution_count": 155,
   "metadata": {
    "collapsed": false
   },
   "outputs": [],
   "source": [
    "# calculate the brightness index for all stations\n",
    "from osgeo import ogr, osr\n",
    "import os\n",
    "from shapely.geometry import Point\n",
    "import shapely.geometry\n",
    "import shapely.wkt\n",
    "from cartopy.feature import ShapelyFeature\n",
    "from cartopy.io.shapereader import Reader\n",
    "import gdal\n",
    "\n",
    "# rasterfile = 'data/F182013.v4/F182013.v4c_web.stable_lights.avg_vis.tif'\n",
    "# layer = gdal.Open(rasterfile)\n",
    "# gt =layer.GetGeoTransform()\n",
    "# bands = layer.RasterCount\n",
    "# src = layer.GetRasterBand(1)"
   ]
  },
  {
   "cell_type": "code",
   "execution_count": 206,
   "metadata": {
    "collapsed": false
   },
   "outputs": [],
   "source": [
    "#rasterfile = 'data/F182013.v4/F182013.v4c_web.stable_lights.avg_vis.tif'\n",
    "rasterfile = 'data/F182013.v4/F182013.v4c_web.avg_vis.tif'\n",
    "layer = gdal.Open(rasterfile)\n",
    "gt =layer.GetGeoTransform()\n",
    "bands = layer.RasterCount\n",
    "src = layer.GetRasterBand(1)\n",
    "\n",
    "BI = np.zeros(X.shape)\n",
    "i = 0 \n",
    "for x,y in zip(X,Y): \n",
    "    rasterx = int((x - gt[0]) / gt[1])\n",
    "    rastery = int((y - gt[3]) / gt[5])\n",
    "    BI[i] = src.ReadAsArray(rasterx,rastery, win_xsize=1, win_ysize=1)\n",
    "    i = i+1\n",
    "\n",
    "#np.save('brightnessGHCN.npy', BI)\n",
    "#BI = np.load('data/brightnessGHCN.npy')"
   ]
  }
 ],
 "metadata": {
  "kernelspec": {
   "display_name": "Python 2",
   "language": "python",
   "name": "python2"
  },
  "language_info": {
   "codemirror_mode": {
    "name": "ipython",
    "version": 2
   },
   "file_extension": ".py",
   "mimetype": "text/x-python",
   "name": "python",
   "nbconvert_exporter": "python",
   "pygments_lexer": "ipython2",
   "version": "2.7.11"
  }
 },
 "nbformat": 4,
 "nbformat_minor": 0
}
