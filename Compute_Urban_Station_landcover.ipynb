{
 "cells": [
  {
   "cell_type": "code",
   "execution_count": 1,
   "metadata": {
    "collapsed": false
   },
   "outputs": [],
   "source": [
    "import ee\n",
    "%matplotlib inline\n",
    "import pandas as pd\n",
    "import numpy as np\n",
    "import matplotlib.pyplot as plt\n",
    "ee.Initialize()"
   ]
  },
  {
   "cell_type": "code",
   "execution_count": 2,
   "metadata": {
    "collapsed": true
   },
   "outputs": [],
   "source": [
    "#results_df = pd.read_csv('plots/version6/US_results_cleaned_data.csv').set_index('City')\n",
    "results_df = pd.read_csv('plots/version6/US_results_Tu_vs_TR.csv').set_index('City')\n",
    "paired_df = pd.read_csv('USpairs2005-2015.csv').set_index('City', drop = False)\n",
    "paired_df = paired_df[paired_df['Urban distance'] < 0.25]"
   ]
  },
  {
   "cell_type": "code",
   "execution_count": 3,
   "metadata": {
    "collapsed": true
   },
   "outputs": [],
   "source": [
    "lcc_english = {\n",
    "#Water\t \n",
    "11: 'Open Water- areas of open water, generally with less than 25% cover of vegetation or soil.', \n",
    "12: 'Perennial Ice/Snow- areas characterized by a perennial cover of ice and/or snow, generally greater than 25% of total cover.',\n",
    "#Developed\t \n",
    "21: 'Developed, Open Space- areas with a mixture of some constructed materials, but mostly vegetation in the form of lawn grasses. Impervious surfaces account for less than 20% of total cover. These areas most commonly include large-lot single-family housing units, parks, golf courses, and vegetation planted in developed settings for recreation, erosion control, or aesthetic purposes.',\n",
    "22: 'Developed, Low Intensity- areas with a mixture of constructed materials and vegetation. Impervious surfaces account for 20% to 49% percent of total cover. These areas most commonly include single-family housing units.',\n",
    "23: 'Developed, Medium Intensity -areas with a mixture of constructed materials and vegetation. Impervious surfaces account for 50% to 79% of the total cover. These areas most commonly include single-family housing units.',\n",
    "24: 'Developed High Intensity-highly developed areas where people reside or work in high numbers. Examples include apartment complexes, row houses and commercial/industrial. Impervious surfaces account for 80% to 100% of the total cover.',\n",
    "#Barren\t \n",
    "31: 'Barren Land (Rock/Sand/Clay) - areas of bedrock, desert pavement, scarps, talus, slides, volcanic material, glacial debris, sand dunes, strip mines, gravel pits and other accumulations of earthen material. Generally, vegetation accounts for less than 15% of total cover.',\n",
    "#Forest\t \n",
    "41: 'Deciduous Forest- areas dominated by trees generally greater than 5 meters tall, and greater than 20% of total vegetation cover. More than 75% of the tree species shed foliage simultaneously in response to seasonal change.',\n",
    "42: 'Evergreen Forest- areas dominated by trees generally greater than 5 meters tall, and greater than 20% of total vegetation cover. More than 75% of the tree species maintain their leaves all year. Canopy is never without green foliage.',\n",
    "43: 'Mixed Forest- areas dominated by trees generally greater than 5 meters tall, and greater than 20% of total vegetation cover. Neither deciduous nor evergreen species are greater than 75% of total tree cover.',\n",
    "#Shrubland\t \n",
    "51: 'Dwarf Scrub- Alaska only areas dominated by shrubs less than 20 centimeters tall with shrub canopy typically greater than 20% of total vegetation. This type is often co-associated with grasses, sedges, herbs, and non-vascular vegetation.',\n",
    "52: 'Shrub/Scrub- areas dominated by shrubs; less than 5 meters tall with shrub canopy typically greater than 20% of total vegetation. This class includes true shrubs, young trees in an early successional stage or trees stunted from environmental conditions.',\n",
    "#Herbaceous \t \n",
    "71: 'Grassland/Herbaceous- areas dominated by gramanoid or herbaceous vegetation, generally greater than 80% of total vegetation. These areas are not subject to intensive management such as tilling, but can be utilized for grazing.',\n",
    "72: 'Sedge/Herbaceous- Alaska only areas dominated by sedges and forbs, generally greater than 80% of total vegetation. This type can occur with significant other grasses or other grass like plants, and includes sedge tundra, and sedge tussock tundra.',\n",
    "73: 'Lichens- Alaska only areas dominated by fruticose or foliose lichens generally greater than 80% of total vegetation.',\n",
    "74: 'Moss- Alaska only areas dominated by mosses, generally greater than 80% of total vegetation.',\n",
    "#Planted/Cultivated\t \n",
    "81: 'Pasture/Hay-areas of grasses, legumes, or grass-legume mixtures planted for livestock grazing or the production of seed or hay crops, typically on a perennial cycle. Pasture/hay vegetation accounts for greater than 20% of total vegetation.',\n",
    "82: 'Cultivated Crops -areas used for the production of annual crops, such as corn, soybeans, vegetables, tobacco, and cotton, and also perennial woody crops such as orchards and vineyards. Crop vegetation accounts for greater than 20% of total vegetation. This class also includes all land being actively tilled.',\n",
    "#Wetlands\t \n",
    "90: 'Woody Wetlands- areas where forest or shrubland vegetation accounts for greater than 20% of vegetative cover and the soil or substrate is periodically saturated with or covered with water.',\n",
    "95: 'Emergent Herbaceous Wetlands- Areas where perennial herbaceous vegetation accounts for greater than 80% of vegetative cover and the soil or substrate is periodically saturated with or covered with water.',\n",
    "np.nan: 'unclassifiable'\n",
    "}"
   ]
  },
  {
   "cell_type": "code",
   "execution_count": 4,
   "metadata": {
    "collapsed": false,
    "scrolled": true
   },
   "outputs": [],
   "source": [
    "# import the 2011 nlcd2011 national land cover database \n",
    "# metadata at: www.mrlc.gov/nlcd11_leg.php\n",
    "# classes 21-24 are barren\n",
    "lcc_df = pd.DataFrame(index = paired_df.index, columns = ['UrbanStationLCC', 'LCC_English'])\n",
    "nlcd = ee.Image('USGS/NLCD/NLCD2011').select('landcover')\n",
    "for city in paired_df.index: \n",
    "    # create a EE geomtetry object of the lat/lon of the urban weather station\n",
    "    point = ee.Geometry.Point([paired_df.loc[city]['Urban Lon'], \n",
    "                          paired_df.loc[city]['Urban Lat']])\n",
    "    # sample the data of the NLCD at this location\n",
    "    data = nlcd.sample(point,30).getInfo()\n",
    "    try: \n",
    "        lcc = data['features'][0]['properties']['landcover']\n",
    "    except IndexError: \n",
    "        lcc = np.nan\n",
    "    lcc_df.loc[city]['UrbanStationLCC'] = lcc\n",
    "    lcc_df.loc[city]['LCC_English'] = lcc_english[lcc]"
   ]
  },
  {
   "cell_type": "code",
   "execution_count": 9,
   "metadata": {
    "collapsed": false
   },
   "outputs": [],
   "source": [
    "paired_df['urban_lcc'] = lcc_df['UrbanStationLCC']\n",
    "paired_df.to_csv('USpairs2005-2015.csv')"
   ]
  },
  {
   "cell_type": "code",
   "execution_count": null,
   "metadata": {
    "collapsed": false
   },
   "outputs": [],
   "source": []
  },
  {
   "cell_type": "code",
   "execution_count": 183,
   "metadata": {
    "collapsed": false
   },
   "outputs": [
    {
     "data": {
      "image/png": "[encoded data removed]",
      "text/plain": [
       "<matplotlib.figure.Figure at 0x11f774350>"
      ]
     },
     "metadata": {},
     "output_type": "display_data"
    }
   ],
   "source": [
    "lcc_df['UrbanStationLCC'].astype(float).hist()\n",
    "plt.title('Urban station landcover class type')\n",
    "handles = plt.xticks([11, 21,31, 41, 51, 71, 81, 90], \n",
    "           ['Water', 'Developed', 'Barren', 'Forest', 'Shrubland', 'Herbaceous', 'Cultivated', 'Wetlands'], \n",
    "                    rotation = 45)\n",
    "plt.savefig"
   ]
  },
  {
   "cell_type": "markdown",
   "metadata": {},
   "source": [
    "Most of our stations are classified as urban landcovers: "
   ]
  },
  {
   "cell_type": "code",
   "execution_count": 7,
   "metadata": {
    "collapsed": false
   },
   "outputs": [
    {
     "name": "stdout",
     "output_type": "stream",
     "text": [
      "45/54 or 83.33 percent are developed\n"
     ]
    }
   ],
   "source": [
    "urban_landcovers = lcc_df[(lcc_df>  20) & (lcc_df <=  24)]['UrbanStationLCC'].dropna().shape[0]\n",
    "total_cities = paired_df.shape[0]\n",
    "print('%i/%i or %2.2f percent are developed'%(urban_landcovers, total_cities, 100*float(urban_landcovers)/float(total_cities)))"
   ]
  },
  {
   "cell_type": "code",
   "execution_count": 118,
   "metadata": {
    "collapsed": false
   },
   "outputs": [
    {
     "data": {
      "image/png": "[encoded data removed]",
      "text/plain": [
       "<matplotlib.figure.Figure at 0x11e053bd0>"
      ]
     },
     "metadata": {},
     "output_type": "display_data"
    }
   ],
   "source": [
    "# plot the urban landcover classes \n",
    "lcc_df[(lcc_df>  20) & (lcc_df <  24)]['UrbanStationLCC'].hist()\n",
    "handles = plt.xticks([21, 22, 23, 24], ['Open', 'Low Intensity', 'Medium Intensity', 'High Intensity'])"
   ]
  },
  {
   "cell_type": "code",
   "execution_count": 106,
   "metadata": {
    "collapsed": false
   },
   "outputs": [
    {
     "data": {
      "text/html": [
       "<div>\n",
       "<table border=\"1\" class=\"dataframe\">\n",
       "  <thead>\n",
       "    <tr style=\"text-align: right;\">\n",
       "      <th></th>\n",
       "      <th>UrbanStationLCC</th>\n",
       "      <th>LCC_English</th>\n",
       "    </tr>\n",
       "    <tr>\n",
       "      <th>City</th>\n",
       "      <th></th>\n",
       "      <th></th>\n",
       "    </tr>\n",
       "  </thead>\n",
       "  <tbody>\n",
       "    <tr>\n",
       "      <th>Fort Lauderdale</th>\n",
       "      <td>95</td>\n",
       "      <td>Emergent Herbaceous Wetlands- Areas where pere...</td>\n",
       "    </tr>\n",
       "    <tr>\n",
       "      <th>Providence</th>\n",
       "      <td>95</td>\n",
       "      <td>Emergent Herbaceous Wetlands- Areas where pere...</td>\n",
       "    </tr>\n",
       "    <tr>\n",
       "      <th>Tucson</th>\n",
       "      <td>52</td>\n",
       "      <td>Shrub/Scrub- areas dominated by shrubs; less t...</td>\n",
       "    </tr>\n",
       "    <tr>\n",
       "      <th>Albuquerque</th>\n",
       "      <td>52</td>\n",
       "      <td>Shrub/Scrub- areas dominated by shrubs; less t...</td>\n",
       "    </tr>\n",
       "    <tr>\n",
       "      <th>Austin</th>\n",
       "      <td>42</td>\n",
       "      <td>Evergreen Forest- areas dominated by trees gen...</td>\n",
       "    </tr>\n",
       "    <tr>\n",
       "      <th>Las Vegas</th>\n",
       "      <td>31</td>\n",
       "      <td>Barren Land (Rock/Sand/Clay) - areas of bedroc...</td>\n",
       "    </tr>\n",
       "    <tr>\n",
       "      <th>Pittsburgh</th>\n",
       "      <td>11</td>\n",
       "      <td>Open Water- areas of open water, generally wit...</td>\n",
       "    </tr>\n",
       "    <tr>\n",
       "      <th>New York</th>\n",
       "      <td>43</td>\n",
       "      <td>Mixed Forest- areas dominated by trees general...</td>\n",
       "    </tr>\n",
       "  </tbody>\n",
       "</table>\n",
       "</div>"
      ],
      "text/plain": [
       "                UrbanStationLCC  \\\n",
       "City                              \n",
       "Fort Lauderdale              95   \n",
       "Providence                   95   \n",
       "Tucson                       52   \n",
       "Albuquerque                  52   \n",
       "Austin                       42   \n",
       "Las Vegas                    31   \n",
       "Pittsburgh                   11   \n",
       "New York                     43   \n",
       "\n",
       "                                                       LCC_English  \n",
       "City                                                                \n",
       "Fort Lauderdale  Emergent Herbaceous Wetlands- Areas where pere...  \n",
       "Providence       Emergent Herbaceous Wetlands- Areas where pere...  \n",
       "Tucson           Shrub/Scrub- areas dominated by shrubs; less t...  \n",
       "Albuquerque      Shrub/Scrub- areas dominated by shrubs; less t...  \n",
       "Austin           Evergreen Forest- areas dominated by trees gen...  \n",
       "Las Vegas        Barren Land (Rock/Sand/Clay) - areas of bedroc...  \n",
       "Pittsburgh       Open Water- areas of open water, generally wit...  \n",
       "New York         Mixed Forest- areas dominated by trees general...  "
      ]
     },
     "execution_count": 106,
     "metadata": {},
     "output_type": "execute_result"
    }
   ],
   "source": [
    "lcc_df[(lcc_df< 20) | (lcc_df > 24)].dropna()"
   ]
  },
  {
   "cell_type": "code",
   "execution_count": 60,
   "metadata": {
    "collapsed": true
   },
   "outputs": [],
   "source": [
    "non_developed = lcc_df[(lcc_df< 20) | (lcc_df > 24)].dropna().index\n",
    "developed = lcc_df[(lcc_df>  20) & (lcc_df <  24)]['UrbanStationLCC'].dropna().index"
   ]
  },
  {
   "cell_type": "code",
   "execution_count": 61,
   "metadata": {
    "collapsed": false
   },
   "outputs": [
    {
     "name": "stdout",
     "output_type": "stream",
     "text": [
      "6/54 or 11.11 percent are others\n"
     ]
    }
   ],
   "source": [
    "non_urban_landcovers = lcc_df[(lcc_df< 20) | (lcc_df > 24)].dropna().shape[0]\n",
    "total_cities = paired_df.shape[0]\n",
    "print('%i/%i or %2.2f percent are others'%(non_urban_landcovers, total_cities , 100*float(non_urban_landcovers)/float(total_cities)))"
   ]
  },
  {
   "cell_type": "code",
   "execution_count": 159,
   "metadata": {
    "collapsed": false
   },
   "outputs": [
    {
     "data": {
      "text/plain": [
       "City\n",
       "Fort Lauderdale    0.036001\n",
       "Providence         0.179342\n",
       "Tucson             0.135087\n",
       "Albuquerque        0.076637\n",
       "Austin             0.044281\n",
       "Las Vegas          0.025026\n",
       "Pittsburgh         0.109237\n",
       "New York           0.030109\n",
       "Name: Urban distance, dtype: float64"
      ]
     },
     "execution_count": 159,
     "metadata": {},
     "output_type": "execute_result"
    }
   ],
   "source": [
    "paired_df.loc[lcc_df[(lcc_df< 20) | (lcc_df > 24)].dropna().index]['Urban distance']"
   ]
  },
  {
   "cell_type": "code",
   "execution_count": 62,
   "metadata": {
    "collapsed": false
   },
   "outputs": [
    {
     "name": "stdout",
     "output_type": "stream",
     "text": [
      "0.686154724226\n"
     ]
    },
    {
     "data": {
      "text/plain": [
       "<matplotlib.text.Text at 0x10fb4d910>"
      ]
     },
     "execution_count": 62,
     "metadata": {},
     "output_type": "execute_result"
    },
    {
     "data": {
      "image/png": "[encoded data removed]",
      "text/plain": [
       "<matplotlib.figure.Figure at 0x10fbadcd0>"
      ]
     },
     "metadata": {},
     "output_type": "display_data"
    }
   ],
   "source": [
    "results_df.loc[non_developed]['slope'].hist()\n",
    "print(results_df.loc[non_developed]['slope'].mean())\n",
    "plt.title('m_jja from urban stations NOT classified as developed')"
   ]
  },
  {
   "cell_type": "code",
   "execution_count": 77,
   "metadata": {
    "collapsed": false
   },
   "outputs": [
    {
     "name": "stdout",
     "output_type": "stream",
     "text": [
      "0.867669049679\n"
     ]
    },
    {
     "data": {
      "text/plain": [
       "<matplotlib.text.Text at 0x11462e710>"
      ]
     },
     "execution_count": 77,
     "metadata": {},
     "output_type": "execute_result"
    },
    {
     "data": {
      "image/png": "[encoded data removed]",
      "text/plain": [
       "<matplotlib.figure.Figure at 0x1141f5690>"
      ]
     },
     "metadata": {},
     "output_type": "display_data"
    }
   ],
   "source": [
    "results_df.loc[developed]['slope'].hist(bins=15)\n",
    "print(results_df.loc[developed]['slope'].mean())\n",
    "plt.title('m_jja from urban stations classified developed')"
   ]
  },
  {
   "cell_type": "code",
   "execution_count": null,
   "metadata": {
    "collapsed": false
   },
   "outputs": [],
   "source": []
  },
  {
   "cell_type": "code",
   "execution_count": 76,
   "metadata": {
    "collapsed": false
   },
   "outputs": [
    {
     "name": "stdout",
     "output_type": "stream",
     "text": [
      "0.871898278427\n"
     ]
    },
    {
     "data": {
      "text/plain": [
       "<matplotlib.text.Text at 0x11444d390>"
      ]
     },
     "execution_count": 76,
     "metadata": {},
     "output_type": "execute_result"
    },
    {
     "data": {
      "image/png": "[encoded data removed]",
      "text/plain": [
       "<matplotlib.figure.Figure at 0x1142ea790>"
      ]
     },
     "metadata": {},
     "output_type": "display_data"
    }
   ],
   "source": [
    "# super developed \n",
    "sdeveloped = lcc_df[(lcc_df>  21) & (lcc_df <  24)]['UrbanStationLCC'].dropna().index\n",
    "results_df.loc[sdeveloped]['slope'].hist(bins =15)\n",
    "print(results_df.loc[sdeveloped]['slope'].mean())\n",
    "plt.title('m_jja from urban stations classified in low intensity or above')"
   ]
  },
  {
   "cell_type": "code",
   "execution_count": 75,
   "metadata": {
    "collapsed": false
   },
   "outputs": [
    {
     "name": "stdout",
     "output_type": "stream",
     "text": [
      "0.845505075778\n"
     ]
    },
    {
     "data": {
      "text/plain": [
       "<matplotlib.text.Text at 0x114201bd0>"
      ]
     },
     "execution_count": 75,
     "metadata": {},
     "output_type": "execute_result"
    },
    {
     "data": {
      "image/png": "[encoded data removed]",
      "text/plain": [
       "<matplotlib.figure.Figure at 0x113d458d0>"
      ]
     },
     "metadata": {},
     "output_type": "display_data"
    }
   ],
   "source": [
    "results_df['slope'].hist(bins = 15)\n",
    "print(results_df['slope'].mean())\n",
    "plt.title('m_jja from all urban stations')"
   ]
  },
  {
   "cell_type": "markdown",
   "metadata": {},
   "source": [
    "### What if we change to look at a larger area"
   ]
  },
  {
   "cell_type": "code",
   "execution_count": 48,
   "metadata": {
    "collapsed": false
   },
   "outputs": [
    {
     "data": {
      "image/png": "[encoded data removed]",
      "text/plain": [
       "<matplotlib.figure.Figure at 0x10fb9c6d0>"
      ]
     },
     "metadata": {},
     "output_type": "display_data"
    }
   ],
   "source": [
    "# import the 2011 nlcd2011 national land cover database \n",
    "# metadata at: www.mrlc.gov/nlcd11_leg.php\n",
    "# classes 21-24 are barren\n",
    "lcc_df = pd.DataFrame(index = paired_df.index, columns = ['UrbanStationLCC', 'LCC_English'])\n",
    "nlcd = ee.Image('USGS/NLCD/NLCD2011').select('landcover')\n",
    "for city in paired_df.index: \n",
    "    # create a EE geomtetry object of the lat/lon of the urban weather station\n",
    "    point = ee.Geometry.Point([paired_df.loc[city]['Urban Lon'], \n",
    "                          paired_df.loc[city]['Urban Lat']])\n",
    "    # sample the data of the NLCD at this location\n",
    "    data = nlcd.sample(point,100).getInfo()\n",
    "    try: \n",
    "        lcc = data['features'][0]['properties']['landcover']\n",
    "    except IndexError: \n",
    "        lcc = np.nan\n",
    "    lcc_df.loc[city]['UrbanStationLCC'] = lcc\n",
    "    lcc_df.loc[city]['LCC_English'] = lcc_english[lcc]\n",
    "lcc_df['UrbanStationLCC'].astype(float).hist()\n",
    "plt.title('Urban station landcover class type, 100meters')\n",
    "handles = plt.xticks([11, 21,31, 41, 51, 71, 81, 90], \n",
    "           ['Water', 'Developed', 'Barren', 'Forest', 'Shrubland', 'Herbaceous', 'Cultivated', 'Wetlands'], \n",
    "                    rotation = 45)"
   ]
  },
  {
   "cell_type": "code",
   "execution_count": 49,
   "metadata": {
    "collapsed": false
   },
   "outputs": [
    {
     "data": {
      "text/html": [
       "<div>\n",
       "<style scoped>\n",
       "    .dataframe tbody tr th:only-of-type {\n",
       "        vertical-align: middle;\n",
       "    }\n",
       "\n",
       "    .dataframe tbody tr th {\n",
       "        vertical-align: top;\n",
       "    }\n",
       "\n",
       "    .dataframe thead th {\n",
       "        text-align: right;\n",
       "    }\n",
       "</style>\n",
       "<table border=\"1\" class=\"dataframe\">\n",
       "  <thead>\n",
       "    <tr style=\"text-align: right;\">\n",
       "      <th></th>\n",
       "      <th>UrbanStationLCC</th>\n",
       "      <th>LCC_English</th>\n",
       "    </tr>\n",
       "    <tr>\n",
       "      <th>City</th>\n",
       "      <th></th>\n",
       "      <th></th>\n",
       "    </tr>\n",
       "  </thead>\n",
       "  <tbody>\n",
       "    <tr>\n",
       "      <th>Fort Lauderdale</th>\n",
       "      <td>90</td>\n",
       "      <td>Woody Wetlands- areas where forest or shrublan...</td>\n",
       "    </tr>\n",
       "    <tr>\n",
       "      <th>Tucson</th>\n",
       "      <td>52</td>\n",
       "      <td>Shrub/Scrub- areas dominated by shrubs; less t...</td>\n",
       "    </tr>\n",
       "    <tr>\n",
       "      <th>Las Vegas</th>\n",
       "      <td>31</td>\n",
       "      <td>Barren Land (Rock/Sand/Clay) - areas of bedroc...</td>\n",
       "    </tr>\n",
       "    <tr>\n",
       "      <th>Salt Lake City</th>\n",
       "      <td>52</td>\n",
       "      <td>Shrub/Scrub- areas dominated by shrubs; less t...</td>\n",
       "    </tr>\n",
       "    <tr>\n",
       "      <th>Pittsburgh</th>\n",
       "      <td>11</td>\n",
       "      <td>Open Water- areas of open water, generally wit...</td>\n",
       "    </tr>\n",
       "    <tr>\n",
       "      <th>New York</th>\n",
       "      <td>43</td>\n",
       "      <td>Mixed Forest- areas dominated by trees general...</td>\n",
       "    </tr>\n",
       "  </tbody>\n",
       "</table>\n",
       "</div>"
      ],
      "text/plain": [
       "                UrbanStationLCC  \\\n",
       "City                              \n",
       "Fort Lauderdale              90   \n",
       "Tucson                       52   \n",
       "Las Vegas                    31   \n",
       "Salt Lake City               52   \n",
       "Pittsburgh                   11   \n",
       "New York                     43   \n",
       "\n",
       "                                                       LCC_English  \n",
       "City                                                                \n",
       "Fort Lauderdale  Woody Wetlands- areas where forest or shrublan...  \n",
       "Tucson           Shrub/Scrub- areas dominated by shrubs; less t...  \n",
       "Las Vegas        Barren Land (Rock/Sand/Clay) - areas of bedroc...  \n",
       "Salt Lake City   Shrub/Scrub- areas dominated by shrubs; less t...  \n",
       "Pittsburgh       Open Water- areas of open water, generally wit...  \n",
       "New York         Mixed Forest- areas dominated by trees general...  "
      ]
     },
     "execution_count": 49,
     "metadata": {},
     "output_type": "execute_result"
    }
   ],
   "source": [
    "lcc_df[(lcc_df< 20) | (lcc_df > 24)].dropna()"
   ]
  },
  {
   "cell_type": "code",
   "execution_count": 36,
   "metadata": {
    "collapsed": false
   },
   "outputs": [
    {
     "data": {
      "text/html": [
       "<div>\n",
       "<style scoped>\n",
       "    .dataframe tbody tr th:only-of-type {\n",
       "        vertical-align: middle;\n",
       "    }\n",
       "\n",
       "    .dataframe tbody tr th {\n",
       "        vertical-align: top;\n",
       "    }\n",
       "\n",
       "    .dataframe thead th {\n",
       "        text-align: right;\n",
       "    }\n",
       "</style>\n",
       "<table border=\"1\" class=\"dataframe\">\n",
       "  <thead>\n",
       "    <tr style=\"text-align: right;\">\n",
       "      <th></th>\n",
       "      <th>UrbanStationLCC</th>\n",
       "      <th>LCC_English</th>\n",
       "    </tr>\n",
       "    <tr>\n",
       "      <th>City</th>\n",
       "      <th></th>\n",
       "      <th></th>\n",
       "    </tr>\n",
       "  </thead>\n",
       "  <tbody>\n",
       "    <tr>\n",
       "      <th>Fort Lauderdale</th>\n",
       "      <td>90</td>\n",
       "      <td>Woody Wetlands- areas where forest or shrublan...</td>\n",
       "    </tr>\n",
       "    <tr>\n",
       "      <th>Tucson</th>\n",
       "      <td>52</td>\n",
       "      <td>Shrub/Scrub- areas dominated by shrubs; less t...</td>\n",
       "    </tr>\n",
       "    <tr>\n",
       "      <th>Las Vegas</th>\n",
       "      <td>31</td>\n",
       "      <td>Barren Land (Rock/Sand/Clay) - areas of bedroc...</td>\n",
       "    </tr>\n",
       "    <tr>\n",
       "      <th>Salt Lake City</th>\n",
       "      <td>52</td>\n",
       "      <td>Shrub/Scrub- areas dominated by shrubs; less t...</td>\n",
       "    </tr>\n",
       "    <tr>\n",
       "      <th>Pittsburgh</th>\n",
       "      <td>11</td>\n",
       "      <td>Open Water- areas of open water, generally wit...</td>\n",
       "    </tr>\n",
       "    <tr>\n",
       "      <th>New York</th>\n",
       "      <td>43</td>\n",
       "      <td>Mixed Forest- areas dominated by trees general...</td>\n",
       "    </tr>\n",
       "  </tbody>\n",
       "</table>\n",
       "</div>"
      ],
      "text/plain": [
       "                UrbanStationLCC  \\\n",
       "City                              \n",
       "Fort Lauderdale              90   \n",
       "Tucson                       52   \n",
       "Las Vegas                    31   \n",
       "Salt Lake City               52   \n",
       "Pittsburgh                   11   \n",
       "New York                     43   \n",
       "\n",
       "                                                       LCC_English  \n",
       "City                                                                \n",
       "Fort Lauderdale  Woody Wetlands- areas where forest or shrublan...  \n",
       "Tucson           Shrub/Scrub- areas dominated by shrubs; less t...  \n",
       "Las Vegas        Barren Land (Rock/Sand/Clay) - areas of bedroc...  \n",
       "Salt Lake City   Shrub/Scrub- areas dominated by shrubs; less t...  \n",
       "Pittsburgh       Open Water- areas of open water, generally wit...  \n",
       "New York         Mixed Forest- areas dominated by trees general...  "
      ]
     },
     "execution_count": 36,
     "metadata": {},
     "output_type": "execute_result"
    }
   ],
   "source": [
    "lcc_df[(lcc_df< 20) | (lcc_df > 24)].dropna()"
   ]
  },
  {
   "cell_type": "code",
   "execution_count": 58,
   "metadata": {
    "collapsed": false
   },
   "outputs": [
    {
     "data": {
      "text/html": [
       "<div>\n",
       "<style scoped>\n",
       "    .dataframe tbody tr th:only-of-type {\n",
       "        vertical-align: middle;\n",
       "    }\n",
       "\n",
       "    .dataframe tbody tr th {\n",
       "        vertical-align: top;\n",
       "    }\n",
       "\n",
       "    .dataframe thead th {\n",
       "        text-align: right;\n",
       "    }\n",
       "</style>\n",
       "<table border=\"1\" class=\"dataframe\">\n",
       "  <thead>\n",
       "    <tr style=\"text-align: right;\">\n",
       "      <th></th>\n",
       "      <th>Unnamed: 0</th>\n",
       "      <th>City</th>\n",
       "      <th>Urban station</th>\n",
       "      <th>Urban Lat</th>\n",
       "      <th>Urban Lon</th>\n",
       "      <th>Urban brightness</th>\n",
       "      <th>Urban start</th>\n",
       "      <th>Urban end</th>\n",
       "      <th>Rural station</th>\n",
       "      <th>Rural Lat</th>\n",
       "      <th>Rural Lon</th>\n",
       "      <th>Rural brightness</th>\n",
       "      <th>Rural start</th>\n",
       "      <th>Rural end</th>\n",
       "      <th>Urban distance</th>\n",
       "      <th>Rural distance</th>\n",
       "    </tr>\n",
       "    <tr>\n",
       "      <th>City</th>\n",
       "      <th></th>\n",
       "      <th></th>\n",
       "      <th></th>\n",
       "      <th></th>\n",
       "      <th></th>\n",
       "      <th></th>\n",
       "      <th></th>\n",
       "      <th></th>\n",
       "      <th></th>\n",
       "      <th></th>\n",
       "      <th></th>\n",
       "      <th></th>\n",
       "      <th></th>\n",
       "      <th></th>\n",
       "      <th></th>\n",
       "      <th></th>\n",
       "    </tr>\n",
       "  </thead>\n",
       "  <tbody>\n",
       "    <tr>\n",
       "      <th>Fort Lauderdale</th>\n",
       "      <td>4</td>\n",
       "      <td>Fort Lauderdale</td>\n",
       "      <td>USC00083168</td>\n",
       "      <td>26.140</td>\n",
       "      <td>-80.106</td>\n",
       "      <td>63.0</td>\n",
       "      <td>1952-04-01</td>\n",
       "      <td>2016-09-30</td>\n",
       "      <td>USR0000FCAC</td>\n",
       "      <td>25.390</td>\n",
       "      <td>-80.680</td>\n",
       "      <td>4.0</td>\n",
       "      <td>1999-12-01</td>\n",
       "      <td>2016-11-30</td>\n",
       "      <td>0.036001</td>\n",
       "      <td>0.919939</td>\n",
       "    </tr>\n",
       "    <tr>\n",
       "      <th>Tucson</th>\n",
       "      <td>19</td>\n",
       "      <td>Tucson</td>\n",
       "      <td>USR0000ASAG</td>\n",
       "      <td>32.316</td>\n",
       "      <td>-110.813</td>\n",
       "      <td>47.0</td>\n",
       "      <td>1995-06-01</td>\n",
       "      <td>2016-08-31</td>\n",
       "      <td>USR0000ASOL</td>\n",
       "      <td>32.403</td>\n",
       "      <td>-110.711</td>\n",
       "      <td>4.0</td>\n",
       "      <td>1999-04-01</td>\n",
       "      <td>2016-10-31</td>\n",
       "      <td>0.135087</td>\n",
       "      <td>0.266911</td>\n",
       "    </tr>\n",
       "    <tr>\n",
       "      <th>Las Vegas</th>\n",
       "      <td>34</td>\n",
       "      <td>Las Vegas</td>\n",
       "      <td>USW00053123</td>\n",
       "      <td>36.211</td>\n",
       "      <td>-115.195</td>\n",
       "      <td>63.0</td>\n",
       "      <td>2000-10-01</td>\n",
       "      <td>2016-06-30</td>\n",
       "      <td>USC00262243</td>\n",
       "      <td>36.438</td>\n",
       "      <td>-115.360</td>\n",
       "      <td>5.0</td>\n",
       "      <td>1940-04-01</td>\n",
       "      <td>2016-12-31</td>\n",
       "      <td>0.025026</td>\n",
       "      <td>0.267551</td>\n",
       "    </tr>\n",
       "    <tr>\n",
       "      <th>Salt Lake City</th>\n",
       "      <td>36</td>\n",
       "      <td>Salt Lake City</td>\n",
       "      <td>USC00421759</td>\n",
       "      <td>40.618</td>\n",
       "      <td>-111.783</td>\n",
       "      <td>52.0</td>\n",
       "      <td>1941-09-01</td>\n",
       "      <td>2016-09-30</td>\n",
       "      <td>USS0011J37S</td>\n",
       "      <td>40.870</td>\n",
       "      <td>-111.720</td>\n",
       "      <td>7.0</td>\n",
       "      <td>1993-10-01</td>\n",
       "      <td>2016-10-31</td>\n",
       "      <td>0.215124</td>\n",
       "      <td>0.230529</td>\n",
       "    </tr>\n",
       "    <tr>\n",
       "      <th>Pittsburgh</th>\n",
       "      <td>48</td>\n",
       "      <td>Pittsburgh</td>\n",
       "      <td>USC00362574</td>\n",
       "      <td>40.501</td>\n",
       "      <td>-80.083</td>\n",
       "      <td>60.0</td>\n",
       "      <td>1991-09-01</td>\n",
       "      <td>2016-10-31</td>\n",
       "      <td>USC00365212</td>\n",
       "      <td>40.458</td>\n",
       "      <td>-79.450</td>\n",
       "      <td>10.0</td>\n",
       "      <td>1989-07-01</td>\n",
       "      <td>2016-07-31</td>\n",
       "      <td>0.109237</td>\n",
       "      <td>0.550698</td>\n",
       "    </tr>\n",
       "    <tr>\n",
       "      <th>New York</th>\n",
       "      <td>69</td>\n",
       "      <td>New York</td>\n",
       "      <td>USW00094728</td>\n",
       "      <td>40.778</td>\n",
       "      <td>-73.969</td>\n",
       "      <td>63.0</td>\n",
       "      <td>1876-01-01 00:00:00</td>\n",
       "      <td>2016-08-31</td>\n",
       "      <td>USC00281582</td>\n",
       "      <td>41.034</td>\n",
       "      <td>-74.423</td>\n",
       "      <td>25.0</td>\n",
       "      <td>1893-04-01 00:00:00</td>\n",
       "      <td>2017-01-31</td>\n",
       "      <td>0.030109</td>\n",
       "      <td>0.526215</td>\n",
       "    </tr>\n",
       "  </tbody>\n",
       "</table>\n",
       "</div>"
      ],
      "text/plain": [
       "                 Unnamed: 0             City Urban station  Urban Lat  \\\n",
       "City                                                                    \n",
       "Fort Lauderdale           4  Fort Lauderdale   USC00083168     26.140   \n",
       "Tucson                   19           Tucson   USR0000ASAG     32.316   \n",
       "Las Vegas                34        Las Vegas   USW00053123     36.211   \n",
       "Salt Lake City           36   Salt Lake City   USC00421759     40.618   \n",
       "Pittsburgh               48       Pittsburgh   USC00362574     40.501   \n",
       "New York                 69         New York   USW00094728     40.778   \n",
       "\n",
       "                 Urban Lon  Urban brightness          Urban start   Urban end  \\\n",
       "City                                                                            \n",
       "Fort Lauderdale    -80.106              63.0           1952-04-01  2016-09-30   \n",
       "Tucson            -110.813              47.0           1995-06-01  2016-08-31   \n",
       "Las Vegas         -115.195              63.0           2000-10-01  2016-06-30   \n",
       "Salt Lake City    -111.783              52.0           1941-09-01  2016-09-30   \n",
       "Pittsburgh         -80.083              60.0           1991-09-01  2016-10-31   \n",
       "New York           -73.969              63.0  1876-01-01 00:00:00  2016-08-31   \n",
       "\n",
       "                Rural station  Rural Lat  Rural Lon  Rural brightness  \\\n",
       "City                                                                    \n",
       "Fort Lauderdale   USR0000FCAC     25.390    -80.680               4.0   \n",
       "Tucson            USR0000ASOL     32.403   -110.711               4.0   \n",
       "Las Vegas         USC00262243     36.438   -115.360               5.0   \n",
       "Salt Lake City    USS0011J37S     40.870   -111.720               7.0   \n",
       "Pittsburgh        USC00365212     40.458    -79.450              10.0   \n",
       "New York          USC00281582     41.034    -74.423              25.0   \n",
       "\n",
       "                         Rural start   Rural end  Urban distance  \\\n",
       "City                                                               \n",
       "Fort Lauderdale           1999-12-01  2016-11-30        0.036001   \n",
       "Tucson                    1999-04-01  2016-10-31        0.135087   \n",
       "Las Vegas                 1940-04-01  2016-12-31        0.025026   \n",
       "Salt Lake City            1993-10-01  2016-10-31        0.215124   \n",
       "Pittsburgh                1989-07-01  2016-07-31        0.109237   \n",
       "New York         1893-04-01 00:00:00  2017-01-31        0.030109   \n",
       "\n",
       "                 Rural distance  \n",
       "City                             \n",
       "Fort Lauderdale        0.919939  \n",
       "Tucson                 0.266911  \n",
       "Las Vegas              0.267551  \n",
       "Salt Lake City         0.230529  \n",
       "Pittsburgh             0.550698  \n",
       "New York               0.526215  "
      ]
     },
     "execution_count": 58,
     "metadata": {},
     "output_type": "execute_result"
    }
   ],
   "source": [
    "paired_df.loc[lcc_df[(lcc_df< 20) | (lcc_df > 24)].dropna().index]"
   ]
  },
  {
   "cell_type": "code",
   "execution_count": 52,
   "metadata": {
    "collapsed": false
   },
   "outputs": [
    {
     "data": {
      "text/plain": [
       "(6, 54.0)"
      ]
     },
     "execution_count": 52,
     "metadata": {},
     "output_type": "execute_result"
    }
   ],
   "source": [
    "lcc_df[(lcc_df< 20) | (lcc_df > 24)].dropna().shape[0], float(lcc_df.shape[0])"
   ]
  },
  {
   "cell_type": "code",
   "execution_count": 53,
   "metadata": {
    "collapsed": false
   },
   "outputs": [
    {
     "data": {
      "text/plain": [
       "48"
      ]
     },
     "execution_count": 53,
     "metadata": {},
     "output_type": "execute_result"
    }
   ],
   "source": [
    "54-6"
   ]
  },
  {
   "cell_type": "code",
   "execution_count": 51,
   "metadata": {
    "collapsed": false
   },
   "outputs": [
    {
     "data": {
      "text/plain": [
       "43"
      ]
     },
     "execution_count": 51,
     "metadata": {},
     "output_type": "execute_result"
    }
   ],
   "source": [
    "data = nlcd.sample(point,50).getInfo()\n",
    "data['features'][0]['properties']['landcover']"
   ]
  },
  {
   "cell_type": "code",
   "execution_count": 27,
   "metadata": {
    "collapsed": false
   },
   "outputs": [
    {
     "data": {
      "text/plain": [
       "41"
      ]
     },
     "execution_count": 27,
     "metadata": {},
     "output_type": "execute_result"
    }
   ],
   "source": [
    "data = nlcd.sample(point,30).getInfo()\n",
    "data['features'][0]['properties']['landcover']"
   ]
  },
  {
   "cell_type": "code",
   "execution_count": 59,
   "metadata": {
    "collapsed": false
   },
   "outputs": [],
   "source": []
  },
  {
   "cell_type": "code",
   "execution_count": null,
   "metadata": {
    "collapsed": true
   },
   "outputs": [],
   "source": []
  },
  {
   "cell_type": "markdown",
   "metadata": {
    "collapsed": true
   },
   "source": [
    "### Do this for rural areas"
   ]
  },
  {
   "cell_type": "code",
   "execution_count": 10,
   "metadata": {
    "collapsed": false
   },
   "outputs": [],
   "source": [
    "# import the 2011 nlcd2011 national land cover database \n",
    "# metadata at: www.mrlc.gov/nlcd11_leg.php\n",
    "# classes 21-24 are barren\n",
    "lcc_r_df = pd.DataFrame(index = paired_df.index, columns = ['RuralStationLCC', 'LCC_English'])\n",
    "nlcd = ee.Image('USGS/NLCD/NLCD2011').select('landcover')\n",
    "for city in paired_df.index: \n",
    "    # create a EE geomtetry object of the lat/lon of the urban weather station\n",
    "    point = ee.Geometry.Point([paired_df.loc[city]['Rural Lon'], \n",
    "                          paired_df.loc[city]['Rural Lat']])\n",
    "    # sample the data of the NLCD at this location\n",
    "    data = nlcd.sample(point,30).getInfo()\n",
    "    try: \n",
    "        lcc = data['features'][0]['properties']['landcover']\n",
    "    except IndexError: \n",
    "        lcc = np.nan\n",
    "    lcc_r_df.loc[city]['RuralStationLCC'] = lcc\n",
    "    lcc_r_df.loc[city]['LCC_English'] = lcc_english[lcc]"
   ]
  },
  {
   "cell_type": "code",
   "execution_count": 12,
   "metadata": {
    "collapsed": false
   },
   "outputs": [],
   "source": [
    "paired_df['rural_lcc'] = lcc_r_df['RuralStationLCC']\n",
    "paired_df.to_csv('USpairs2005-2015.csv')"
   ]
  },
  {
   "cell_type": "code",
   "execution_count": 22,
   "metadata": {
    "collapsed": false
   },
   "outputs": [
    {
     "data": {
      "image/png": "[encoded data removed]",
      "text/plain": [
       "<matplotlib.figure.Figure at 0x112fa1f50>"
      ]
     },
     "metadata": {},
     "output_type": "display_data"
    }
   ],
   "source": [
    "lcc_r_df['RuralStationLCC'].astype(float).hist(bins = 40)\n",
    "plt.title('Rural station landcover class type')\n",
    "handles = plt.xticks([11, 21,31, 41, 51, 71, 81, 90], \n",
    "           ['Water', 'Developed', 'Barren', 'Forest', 'Shrubland', 'Herbaceous', 'Cultivated', 'Wetlands'], \n",
    "                    rotation = 45)"
   ]
  },
  {
   "cell_type": "code",
   "execution_count": null,
   "metadata": {
    "collapsed": true
   },
   "outputs": [],
   "source": []
  },
  {
   "cell_type": "code",
   "execution_count": 23,
   "metadata": {
    "collapsed": false
   },
   "outputs": [
    {
     "data": {
      "image/png": "[encoded data removed]",
      "text/plain": [
       "<matplotlib.figure.Figure at 0x1132a3b10>"
      ]
     },
     "metadata": {},
     "output_type": "display_data"
    }
   ],
   "source": [
    "# plot the urban landcover classes \n",
    "lcc_r_df[(lcc_r_df>  20) & (lcc_r_df <  24)]['RuralStationLCC'].hist()\n",
    "handles = plt.xticks([21, 22, 23, 24], ['Open', 'Low Intensity', 'Medium Intensity', 'High Intensity'])"
   ]
  },
  {
   "cell_type": "code",
   "execution_count": 79,
   "metadata": {
    "collapsed": false
   },
   "outputs": [
    {
     "data": {
      "text/plain": [
       "City\n",
       "Providence     22\n",
       "Kansas City    21\n",
       "Sacramento     21\n",
       "Portland       23\n",
       "Cleveland      21\n",
       "Nashville      21\n",
       "St. Louis      22\n",
       "Detroit        22\n",
       "Miami          21\n",
       "Name: RuralStationLCC, dtype: object"
      ]
     },
     "execution_count": 79,
     "metadata": {},
     "output_type": "execute_result"
    }
   ],
   "source": [
    "lcc_r_df[(lcc_r_df>  20) & (lcc_r_df <  24)]['RuralStationLCC'].dropna()"
   ]
  },
  {
   "cell_type": "code",
   "execution_count": 80,
   "metadata": {
    "collapsed": false
   },
   "outputs": [
    {
     "data": {
      "text/plain": [
       "'Developed, Medium Intensity -areas with a mixture of constructed materials and vegetation. Impervious surfaces account for 50% to 79% of the total cover. These areas most commonly include single-family housing units.'"
      ]
     },
     "execution_count": 80,
     "metadata": {},
     "output_type": "execute_result"
    }
   ],
   "source": [
    "lcc_english[23]"
   ]
  },
  {
   "cell_type": "code",
   "execution_count": 57,
   "metadata": {
    "collapsed": false
   },
   "outputs": [
    {
     "data": {
      "text/plain": [
       "'Developed, Open Space- areas with a mixture of some constructed materials, but mostly vegetation in the form of lawn grasses. Impervious surfaces account for less than 20% of total cover. These areas most commonly include large-lot single-family housing units, parks, golf courses, and vegetation planted in developed settings for recreation, erosion control, or aesthetic purposes.'"
      ]
     },
     "execution_count": 57,
     "metadata": {},
     "output_type": "execute_result"
    }
   ],
   "source": [
    "lcc_english[21]"
   ]
  },
  {
   "cell_type": "code",
   "execution_count": null,
   "metadata": {
    "collapsed": true
   },
   "outputs": [],
   "source": []
  }
 ],
 "metadata": {
  "kernelspec": {
   "display_name": "Python 2",
   "language": "python",
   "name": "python2"
  },
  "language_info": {
   "codemirror_mode": {
    "name": "ipython",
    "version": 2
   },
   "file_extension": ".py",
   "mimetype": "text/x-python",
   "name": "python",
   "nbconvert_exporter": "python",
   "pygments_lexer": "ipython2",
   "version": "2.7.11"
  }
 },
 "nbformat": 4,
 "nbformat_minor": 0
}
