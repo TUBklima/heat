{
 "cells": [
  {
   "cell_type": "code",
   "execution_count": 66,
   "metadata": {
    "collapsed": true
   },
   "outputs": [],
   "source": [
    "# import libraries\n",
    "%matplotlib inline\n",
    "import numpy as np\n",
    "#import csv\n",
    "import matplotlib.pyplot as plt\n",
    "import pandas as pd\n",
    "import glob\n",
    "import ulmo\n",
    "import os\n",
    "import scipy.spatial\n",
    "import scipy.stats\n",
    "\n",
    "def easy_scatter(x,y,title='', xlabel='', ylabel='') : \n",
    "# plots x,y (need to be np array) and calculates and prints their best fit line\n",
    "    ind = ~np.isnan(y) & ~np.isnan(x) # subset values that aren't NaNs\n",
    "    m,b = np.polyfit(x[ind],y[ind],1)\n",
    "    r, p = scipy.stats.pearsonr(x[ind], y[ind]) #np.corrcoef(x[ind],y[ind])[0,1]\n",
    "    plt.scatter(x,y)\n",
    "    plt.plot(x, m*x+b, color = 'black')\n",
    "    plt.title(title)\n",
    "    plt.ylabel(ylabel)\n",
    "    plt.xlabel(xlabel)\n",
    "    # annotate the linear reqression, y = mx+b\n",
    "    plt.annotate('y = %.2f x + %.2f'%(m,b), xy=(.5, .9), xycoords='axes fraction',  horizontalalignment='left', verticalalignment='bottom')\n",
    "    plt.annotate('r = %.2f'%(r), xy=(.5, .85), xycoords='axes fraction',  horizontalalignment='left', verticalalignment='bottom')\n",
    "    plt.annotate('p = %.2f'%(p), xy=(.5, .8), xycoords='axes fraction',  horizontalalignment='left', verticalalignment='bottom')\n",
    "    plt.annotate('N = %i'%(ind.shape), xy=(.5, .75), xycoords='axes fraction',  horizontalalignment='left', verticalalignment='bottom')\n",
    "    return m, r, p"
   ]
  },
  {
   "cell_type": "code",
   "execution_count": 3,
   "metadata": {
    "collapsed": true
   },
   "outputs": [],
   "source": [
    "meta = pd.DataFrame(pd.read_csv('../IntraUrbanTemperatureVariabilityBaltimore/data/CleanedMeta2016.csv', sep = ','))\n",
    "meta = meta.set_index('sensornumber', drop = False)\n",
    "meta = meta.set_index(meta.index.astype(int), drop = False)\n",
    "#mean_temp = pd.read_csv('meantemp.csv', header=-1).rename(columns = {0: 'SensorNumber', 1:'MeanTemp'}).set_index('SensorNumber')\n",
    "tempDF = pd.read_csv('../IntraUrbanTemperatureVariabilityBaltimore/data/CleanedTemp2016.csv', parse_dates = [0]).set_index('Date').resample('H').first()\n",
    "tempDF.columns = tempDF.columns.astype(int)"
   ]
  },
  {
   "cell_type": "code",
   "execution_count": 7,
   "metadata": {
    "collapsed": false
   },
   "outputs": [
    {
     "data": {
      "text/html": [
       "<div>\n",
       "<table border=\"1\" class=\"dataframe\">\n",
       "  <thead>\n",
       "    <tr style=\"text-align: right;\">\n",
       "      <th></th>\n",
       "      <th>82</th>\n",
       "      <th>139</th>\n",
       "      <th>130</th>\n",
       "      <th>32</th>\n",
       "      <th>10</th>\n",
       "      <th>129</th>\n",
       "      <th>105</th>\n",
       "      <th>80</th>\n",
       "      <th>34</th>\n",
       "      <th>71</th>\n",
       "      <th>...</th>\n",
       "      <th>62</th>\n",
       "      <th>24</th>\n",
       "      <th>75</th>\n",
       "      <th>65</th>\n",
       "      <th>85</th>\n",
       "      <th>29</th>\n",
       "      <th>144</th>\n",
       "      <th>21</th>\n",
       "      <th>134</th>\n",
       "      <th>44</th>\n",
       "    </tr>\n",
       "    <tr>\n",
       "      <th>Date</th>\n",
       "      <th></th>\n",
       "      <th></th>\n",
       "      <th></th>\n",
       "      <th></th>\n",
       "      <th></th>\n",
       "      <th></th>\n",
       "      <th></th>\n",
       "      <th></th>\n",
       "      <th></th>\n",
       "      <th></th>\n",
       "      <th></th>\n",
       "      <th></th>\n",
       "      <th></th>\n",
       "      <th></th>\n",
       "      <th></th>\n",
       "      <th></th>\n",
       "      <th></th>\n",
       "      <th></th>\n",
       "      <th></th>\n",
       "      <th></th>\n",
       "      <th></th>\n",
       "    </tr>\n",
       "  </thead>\n",
       "  <tbody>\n",
       "    <tr>\n",
       "      <th>2016-07-01</th>\n",
       "      <td>21.878</td>\n",
       "      <td>19.334</td>\n",
       "      <td>18.854</td>\n",
       "      <td>21.645</td>\n",
       "      <td>21.044</td>\n",
       "      <td>21.223</td>\n",
       "      <td>23.523</td>\n",
       "      <td>23.412</td>\n",
       "      <td>22.092</td>\n",
       "      <td>23.283</td>\n",
       "      <td>...</td>\n",
       "      <td>23.676</td>\n",
       "      <td>22.136</td>\n",
       "      <td>19.433</td>\n",
       "      <td>23.062</td>\n",
       "      <td>21.090</td>\n",
       "      <td>22.628</td>\n",
       "      <td>19.376</td>\n",
       "      <td>20.611</td>\n",
       "      <td>19.492</td>\n",
       "      <td>21.098</td>\n",
       "    </tr>\n",
       "    <tr>\n",
       "      <th>2016-07-02</th>\n",
       "      <td>19.940</td>\n",
       "      <td>18.833</td>\n",
       "      <td>18.416</td>\n",
       "      <td>20.144</td>\n",
       "      <td>20.544</td>\n",
       "      <td>20.284</td>\n",
       "      <td>21.397</td>\n",
       "      <td>21.285</td>\n",
       "      <td>20.591</td>\n",
       "      <td>21.470</td>\n",
       "      <td>...</td>\n",
       "      <td>22.050</td>\n",
       "      <td>21.636</td>\n",
       "      <td>17.868</td>\n",
       "      <td>21.811</td>\n",
       "      <td>19.150</td>\n",
       "      <td>21.628</td>\n",
       "      <td>18.813</td>\n",
       "      <td>19.109</td>\n",
       "      <td>18.930</td>\n",
       "      <td>21.098</td>\n",
       "    </tr>\n",
       "    <tr>\n",
       "      <th>2016-07-03</th>\n",
       "      <td>19.440</td>\n",
       "      <td>18.395</td>\n",
       "      <td>17.228</td>\n",
       "      <td>19.143</td>\n",
       "      <td>20.044</td>\n",
       "      <td>19.346</td>\n",
       "      <td>20.771</td>\n",
       "      <td>20.284</td>\n",
       "      <td>19.590</td>\n",
       "      <td>20.719</td>\n",
       "      <td>...</td>\n",
       "      <td>20.550</td>\n",
       "      <td>20.634</td>\n",
       "      <td>17.555</td>\n",
       "      <td>19.809</td>\n",
       "      <td>18.962</td>\n",
       "      <td>20.127</td>\n",
       "      <td>18.376</td>\n",
       "      <td>19.109</td>\n",
       "      <td>18.554</td>\n",
       "      <td>20.097</td>\n",
       "    </tr>\n",
       "    <tr>\n",
       "      <th>2016-07-04</th>\n",
       "      <td>19.690</td>\n",
       "      <td>17.770</td>\n",
       "      <td>18.478</td>\n",
       "      <td>20.144</td>\n",
       "      <td>19.543</td>\n",
       "      <td>20.159</td>\n",
       "      <td>20.771</td>\n",
       "      <td>20.847</td>\n",
       "      <td>20.091</td>\n",
       "      <td>21.094</td>\n",
       "      <td>...</td>\n",
       "      <td>20.987</td>\n",
       "      <td>20.133</td>\n",
       "      <td>17.931</td>\n",
       "      <td>20.622</td>\n",
       "      <td>19.713</td>\n",
       "      <td>20.127</td>\n",
       "      <td>17.812</td>\n",
       "      <td>19.109</td>\n",
       "      <td>17.929</td>\n",
       "      <td>20.097</td>\n",
       "    </tr>\n",
       "    <tr>\n",
       "      <th>2016-07-05</th>\n",
       "      <td>21.691</td>\n",
       "      <td>17.707</td>\n",
       "      <td>22.043</td>\n",
       "      <td>22.146</td>\n",
       "      <td>22.545</td>\n",
       "      <td>22.223</td>\n",
       "      <td>22.460</td>\n",
       "      <td>22.474</td>\n",
       "      <td>22.092</td>\n",
       "      <td>22.470</td>\n",
       "      <td>...</td>\n",
       "      <td>22.550</td>\n",
       "      <td>22.637</td>\n",
       "      <td>21.373</td>\n",
       "      <td>22.249</td>\n",
       "      <td>22.092</td>\n",
       "      <td>22.128</td>\n",
       "      <td>17.687</td>\n",
       "      <td>22.612</td>\n",
       "      <td>17.804</td>\n",
       "      <td>22.599</td>\n",
       "    </tr>\n",
       "  </tbody>\n",
       "</table>\n",
       "<p>5 rows × 91 columns</p>\n",
       "</div>"
      ],
      "text/plain": [
       "               82      139     130     32      10      129     105     80   \\\n",
       "Date                                                                         \n",
       "2016-07-01  21.878  19.334  18.854  21.645  21.044  21.223  23.523  23.412   \n",
       "2016-07-02  19.940  18.833  18.416  20.144  20.544  20.284  21.397  21.285   \n",
       "2016-07-03  19.440  18.395  17.228  19.143  20.044  19.346  20.771  20.284   \n",
       "2016-07-04  19.690  17.770  18.478  20.144  19.543  20.159  20.771  20.847   \n",
       "2016-07-05  21.691  17.707  22.043  22.146  22.545  22.223  22.460  22.474   \n",
       "\n",
       "               34      71    ...       62      24      75      65      85   \\\n",
       "Date                         ...                                             \n",
       "2016-07-01  22.092  23.283   ...    23.676  22.136  19.433  23.062  21.090   \n",
       "2016-07-02  20.591  21.470   ...    22.050  21.636  17.868  21.811  19.150   \n",
       "2016-07-03  19.590  20.719   ...    20.550  20.634  17.555  19.809  18.962   \n",
       "2016-07-04  20.091  21.094   ...    20.987  20.133  17.931  20.622  19.713   \n",
       "2016-07-05  22.092  22.470   ...    22.550  22.637  21.373  22.249  22.092   \n",
       "\n",
       "               29      144     21      134     44   \n",
       "Date                                                \n",
       "2016-07-01  22.628  19.376  20.611  19.492  21.098  \n",
       "2016-07-02  21.628  18.813  19.109  18.930  21.098  \n",
       "2016-07-03  20.127  18.376  19.109  18.554  20.097  \n",
       "2016-07-04  20.127  17.812  19.109  17.929  20.097  \n",
       "2016-07-05  22.128  17.687  22.612  17.804  22.599  \n",
       "\n",
       "[5 rows x 91 columns]"
      ]
     },
     "execution_count": 7,
     "metadata": {},
     "output_type": "execute_result"
    }
   ],
   "source": [
    "tempDF['2016-07-01': '2016-07-05'].resample('D').min()"
   ]
  },
  {
   "cell_type": "code",
   "execution_count": 94,
   "metadata": {
    "collapsed": false
   },
   "outputs": [],
   "source": [
    "startdate ='2016-07-01' \n",
    "enddate = '2016-08-31' \n",
    "urban = tempDF[97] # science center['2016-07-01']\n",
    "rural = tempDF[68] # rural , Darryn's house\n",
    "dt_min = (urban.resample('D').min()-rural.resample('D').min())[startdate:enddate]\n",
    "dt_concurrent = (urban[urban.index.hour == 6] - rural[rural.index.hour==6])[startdate:enddate]"
   ]
  },
  {
   "cell_type": "code",
   "execution_count": 106,
   "metadata": {
    "collapsed": false
   },
   "outputs": [
    {
     "data": {
      "text/plain": [
       "<matplotlib.legend.Legend at 0x11d68e490>"
      ]
     },
     "execution_count": 106,
     "metadata": {},
     "output_type": "execute_result"
    },
    {
     "data": {
      "image/png": "[encoded data removed]",
      "text/plain": [
       "<matplotlib.figure.Figure at 0x11d9dfb10>"
      ]
     },
     "metadata": {},
     "output_type": "display_data"
    }
   ],
   "source": [
    "urban.groupby(urban.index.hour).mean().plot(label = 'Urban', style = 'o-')\n",
    "rural.groupby(rural.index.hour).mean().plot(label = 'Rural', style = 'o-')\n",
    "plt.legend(loc=2)"
   ]
  },
  {
   "cell_type": "code",
   "execution_count": 101,
   "metadata": {
    "collapsed": false
   },
   "outputs": [
    {
     "data": {
      "text/plain": [
       "<matplotlib.text.Text at 0x11d5f1f50>"
      ]
     },
     "execution_count": 101,
     "metadata": {},
     "output_type": "execute_result"
    },
    {
     "data": {
      "image/png": "[encoded data removed]",
      "text/plain": [
       "<matplotlib.figure.Figure at 0x11d538750>"
      ]
     },
     "metadata": {},
     "output_type": "display_data"
    }
   ],
   "source": [
    "dt_min.hist()\n",
    "plt.title('UHI, Tmin- Tmin')\n",
    "plt.text(0,8, 'mean = %2.2f'%dt_min.mean())\n",
    "plt.xlabel('$\\Delta T$ ($^\\circ C$)')\n",
    "plt.ylabel('Count')"
   ]
  },
  {
   "cell_type": "code",
   "execution_count": 102,
   "metadata": {
    "collapsed": false,
    "scrolled": true
   },
   "outputs": [
    {
     "data": {
      "text/plain": [
       "<matplotlib.text.Text at 0x11d5fab90>"
      ]
     },
     "execution_count": 102,
     "metadata": {},
     "output_type": "execute_result"
    },
    {
     "data": {
      "image/png": "[encoded data removed]",
      "text/plain": [
       "<matplotlib.figure.Figure at 0x11d7b9790>"
      ]
     },
     "metadata": {},
     "output_type": "display_data"
    }
   ],
   "source": [
    "dt_concurrent.hist()\n",
    "plt.text(1,8, 'mean = %2.2f'%dt_concurrent.mean())\n",
    "plt.title('UHI, Concurrently Calculated')\n",
    "plt.xlabel('$\\Delta T$ ($^\\circ C$)')\n",
    "plt.ylabel('Count')"
   ]
  },
  {
   "cell_type": "code",
   "execution_count": 92,
   "metadata": {
    "collapsed": false
   },
   "outputs": [
    {
     "data": {
      "text/plain": [
       "(-0.30687941215470543, -0.52695661328134158, 1.0825462354233808e-05)"
      ]
     },
     "execution_count": 92,
     "metadata": {},
     "output_type": "execute_result"
    },
    {
     "data": {
      "image/png": "[encoded data removed]",
      "text/plain": [
       "<matplotlib.figure.Figure at 0x1255b87d0>"
      ]
     },
     "metadata": {},
     "output_type": "display_data"
    }
   ],
   "source": [
    "easy_scatter(rural.resample('D').min()[startdate:enddate] , \n",
    "             dt_min,\n",
    "            '$\\Delta T$ computed from Min Daily T', '$T_r$ ($^\\circ C$)', '$\\Delta T$ ($^\\circ C$)')"
   ]
  },
  {
   "cell_type": "code",
   "execution_count": 99,
   "metadata": {
    "collapsed": false
   },
   "outputs": [
    {
     "data": {
      "text/plain": [
       "(-0.23921436828174397, -0.5395044177939049, 6.0474044485861789e-06)"
      ]
     },
     "execution_count": 99,
     "metadata": {},
     "output_type": "execute_result"
    },
    {
     "data": {
      "image/png": "[encoded data removed]",
      "text/plain": [
       "<matplotlib.figure.Figure at 0x11cf721d0>"
      ]
     },
     "metadata": {},
     "output_type": "display_data"
    }
   ],
   "source": [
    "easy_scatter(rural.resample('D').min()[startdate:enddate].values , \n",
    "             dt_concurrent.values,\n",
    "            '$\\Delta T$ computed concurrently', '$T_r$ ($^\\circ C$)', '$\\Delta T$ ($^\\circ C$)')"
   ]
  },
  {
   "cell_type": "code",
   "execution_count": null,
   "metadata": {
    "collapsed": true
   },
   "outputs": [],
   "source": []
  }
 ],
 "metadata": {
  "kernelspec": {
   "display_name": "Python 2",
   "language": "python",
   "name": "python2"
  },
  "language_info": {
   "codemirror_mode": {
    "name": "ipython",
    "version": 2
   },
   "file_extension": ".py",
   "mimetype": "text/x-python",
   "name": "python",
   "nbconvert_exporter": "python",
   "pygments_lexer": "ipython2",
   "version": "2.7.11"
  }
 },
 "nbformat": 4,
 "nbformat_minor": 0
}
