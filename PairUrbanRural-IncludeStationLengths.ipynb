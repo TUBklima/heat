{
 "cells": [
  {
   "cell_type": "code",
   "execution_count": 1,
   "metadata": {
    "collapsed": true
   },
   "outputs": [],
   "source": [
    "# import libraries\n",
    "%matplotlib inline\n",
    "import numpy as np\n",
    "#import csv\n",
    "import matplotlib.pyplot as plt\n",
    "import pandas as pd\n",
    "import glob\n",
    "import ulmo\n",
    "import os\n",
    "import scipy.spatial"
   ]
  },
  {
   "cell_type": "code",
   "execution_count": 2,
   "metadata": {
    "collapsed": false
   },
   "outputs": [],
   "source": [
    "ghcn = pd.read_fwf('data/ghcnd-stations.txt', colspecs = [(0,11), (12,19), (21,29), (31,36),(38,40), (41,70), (72,74),(76,78),(80,85)], header = None) \n",
    "colnames = ['GHCN ID', 'lat', 'lon', 'elevation', 'state', 'name', 'gsn flag', 'HCN/CRN FLAG', 'WMO ID']\n",
    "ghcn.columns = colnames\n",
    "\n",
    "# append the brightness index \n",
    "BI = np.load('data/brightnessGHCN.npy')\n",
    "ghcn['Brightness'] = BI\n",
    "# from http://www1.ncdc.noaa.gov/pub/data/ghcn/daily/readme.txt\n",
    "# FORMAT OF \"ghcnd-stations.txt\"\n",
    "#\n",
    "# ------------------------------\n",
    "# Variable   Columns   Type\n",
    "# ------------------------------\n",
    "# ID            1-11   Character\n",
    "# LATITUDE     13-20   Real\n",
    "# LONGITUDE    22-30   Real\n",
    "# ELEVATION    32-37   Real\n",
    "# STATE        39-40   Character\n",
    "# NAME         42-71   Character\n",
    "# GSN FLAG     73-75   Character\n",
    "# HCN/CRN FLAG 77-79   Character\n",
    "# WMO ID       81-85   Character\n",
    "# ------------------------------\n",
    "\n",
    "# These variables have the following definitions:\n",
    "\n",
    "# ID         is the station identification code.  Note that the first two\n",
    "#            characters denote the FIPS  country code, the third character \n",
    "#            is a network code that identifies the station numbering system \n",
    "#            used, and the remaining eight characters contain the actual \n",
    "#            station ID. \n",
    "\n",
    "#            See \"ghcnd-countries.txt\" for a complete list of country codes.\n",
    "# \t   See \"ghcnd-states.txt\" for a list of state/province/territory codes.\n",
    "\n",
    "#            The network code  has the following five values:\n",
    "\n",
    "#            0 = unspecified (station identified by up to eight \n",
    "# \t       alphanumeric characters)\n",
    "# \t   1 = Community Collaborative Rain, Hail,and Snow (CoCoRaHS)\n",
    "# \t       based identification number.  To ensure consistency with\n",
    "# \t       with GHCN Daily, all numbers in the original CoCoRaHS IDs\n",
    "# \t       have been left-filled to make them all four digits long. \n",
    "# \t       In addition, the characters \"-\" and \"_\" have been removed \n",
    "# \t       to ensure that the IDs do not exceed 11 characters when \n",
    "# \t       preceded by \"US1\". For example, the CoCoRaHS ID \n",
    "# \t       \"AZ-MR-156\" becomes \"US1AZMR0156\" in GHCN-Daily\n",
    "#            C = U.S. Cooperative Network identification number (last six \n",
    "#                characters of the GHCN-Daily ID)\n",
    "# \t   E = Identification number used in the ECA&D non-blended\n",
    "# \t       dataset\n",
    "# \t   M = World Meteorological Organization ID (last five\n",
    "# \t       characters of the GHCN-Daily ID)\n",
    "# \t   N = Identification number used in data supplied by a \n",
    "# \t       National Meteorological or Hydrological Center\n",
    "# \t   R = U.S. Interagency Remote Automatic Weather Station (RAWS)\n",
    "# \t       identifier\n",
    "# \t   S = U.S. Natural Resources Conservation Service SNOwpack\n",
    "# \t       TELemtry (SNOTEL) station identifier\n",
    "#            W = WBAN identification number (last five characters of the \n",
    "#                GHCN-Daily ID)\n",
    "\n",
    "# LATITUDE   is latitude of the station (in decimal degrees).\n",
    "\n",
    "# LONGITUDE  is the longitude of the station (in decimal degrees).\n",
    "\n",
    "# ELEVATION  is the elevation of the station (in meters, missing = -999.9).\n",
    "\n",
    "\n",
    "# STATE      is the U.S. postal code for the state (for U.S. stations only).\n",
    "\n",
    "# NAME       is the name of the station.\n",
    "\n",
    "# GSN FLAG   is a flag that indicates whether the station is part of the GCOS\n",
    "#            Surface Network (GSN). The flag is assigned by cross-referencing \n",
    "#            the number in the WMOID field with the official list of GSN \n",
    "#            stations. There are two possible values:\n",
    "\n",
    "#            Blank = non-GSN station or WMO Station number not available\n",
    "#            GSN   = GSN station \n",
    "\n",
    "# HCN/      is a flag that indicates whether the station is part of the U.S.\n",
    "# CRN FLAG  Historical Climatology Network (HCN).  There are three possible \n",
    "#           values:\n",
    "\n",
    "#            Blank = Not a member of the U.S. Historical Climatology \n",
    "# \t           or U.S. Climate Reference Networks\n",
    "#            HCN   = U.S. Historical Climatology Network station\n",
    "# \t   CRN   = U.S. Climate Reference Network or U.S. Regional Climate \n",
    "# \t           Network Station\n",
    "\n",
    "# WMO ID     is the World Meteorological Organization (WMO) number for the\n",
    "#            station.  If the station has no WMO number (or one has not yet \n",
    "# \t   been matched to this station), then the field is blank.\n",
    "\n",
    "# --------------------------------------------------------------------------------\n",
    "# --------------------------------------------------------------------------------\n",
    "giss = pd.read_fwf('data/v3.temperature.inv.txt',skiprows = 39, header = None,\n",
    "                  colspecs=[(0,3),(3,8),(8,11), (12,44),(44,49), (52,58), (58,63), (63,67), (67,68), (69,73), (73,75), (75, 77), (78,79), (79,81), (81,82),(82,84), (84,100), (100,102), (103,106)])\n",
    "colnames = ['icc country code', 'WMO ID', '3 digit modifier', 'name','lat', 'lon', 'elevation', 'TELe', 'P', 'Pop', 'Tp', 'V', 'Lo', 'Co', 'Airport', 'ds', 'Vege', 'bi', 'BI']\n",
    "giss.columns = colnames\n",
    "\n",
    "# LEGEND  \n",
    "# ======\n",
    "# icc  =3 digit country code; the first digit represents WMO region/continent\n",
    "# WMO_#=5 digit WMO station number\n",
    "# ...  =3 digit modifier; 000 means the station is probably the WMO\n",
    "#       station; 001, etc. mean the station is near that WMO station\n",
    "# Name =30 character station name\n",
    "# Lat  =latitude in degrees, negative = South of Equator\n",
    "# Lon  =longitude in degrees, negative = West of Greenwich (England)\n",
    "# Elev =station elevation in meters, missing is -999\n",
    "# TEle =station elevation interpolated from TerrainBase gridded data set\n",
    "# P    =R if rural (not associated with a town of >10,000 population)\n",
    "#       S if associated with a small town (10,000-50,000 population)\n",
    "#       U if associated with an urban area (>50,000 population)\n",
    "# Pop  =population of the small town or urban area in 1000s\n",
    "#       If rural, no analysis:  -9.\n",
    "# Tp   =general topography around the station:  FL flat; HI hilly,\n",
    "#       MT mountain top; MV mountainous valley or at least not on the top\n",
    "#       of a mountain.\n",
    "# V    =general vegetation near the station based on Operational\n",
    "#       Navigation Charts;  MA marsh; FO forested; IC ice; DE desert;\n",
    "#       CL clear or open;  xx information not provided\n",
    "# Lo   =CO if station is within 30 km from the coast\n",
    "#       LA if station is next to a large (> 25 km**2) lake\n",
    "#       no if neither of the above\n",
    "#       Note: Stations which are both CO and LA will be marked CO\n",
    "# Co   =distance in km to the coast if Lo=CO, else -9\n",
    "# A    =A if the station is at an airport; else x\n",
    "# ds   =distance in km from the airport to its associated\n",
    "#       small town or urban center (not relevant for rural airports\n",
    "#       or non airport stations in which case ds=-9)\n",
    "# Vege =gridded vegetation for the 0.5x0.5 degree grid point closest\n",
    "#       to the station from a gridded vegetation data base. 16 characters.\n",
    "# bi   =brightness index    A=dark B=dim C=bright   (comment added by R.Ruedy)\n",
    "# BI   =brightness index    0=dark -> 256 =bright   (based on satellite night light data)"
   ]
  },
  {
   "cell_type": "markdown",
   "metadata": {
    "collapsed": false
   },
   "source": [
    "see: http://stackoverflow.com/questions/35296935/python-calculate-lots-of-distances-quickly"
   ]
  },
  {
   "cell_type": "code",
   "execution_count": 3,
   "metadata": {
    "collapsed": false
   },
   "outputs": [],
   "source": [
    "# subset the GHCN station list with the list of available stations\n",
    "currentstations = ulmo.ncdc.ghcn_daily.get_stations(start_year=1985, end_year = 2016, elements = ['TMIN', 'TMAX', 'AWND'], as_dataframe=True, update=False)\n",
    "currentGHCNstations = np.intersect1d(currentstations.id, ghcn.index.values) #ghcn['GHCN ID'].values)\n",
    "ghcnSubset = ghcn.set_index('GHCN ID').loc[currentstations.id.values]\n",
    "\n",
    "# at this point, ghcn must have the station id set as the index "
   ]
  },
  {
   "cell_type": "code",
   "execution_count": 4,
   "metadata": {
    "collapsed": false
   },
   "outputs": [],
   "source": [
    "ghcn = ghcn.set_index('GHCN ID').loc[currentstations.id.values]"
   ]
  },
  {
   "cell_type": "code",
   "execution_count": 5,
   "metadata": {
    "collapsed": false
   },
   "outputs": [],
   "source": [
    "# compute distances between all stations\n",
    "#tree = scipy.spatial.cKDTree(giss[['lon', 'lat']].values, leafsize=100)\n",
    "# query the closest point \n",
    "#closestInd = tree.query(giss[['lon', 'lat']].values[11,:], k =2, distance_upper_bound=6)[1][1]"
   ]
  },
  {
   "cell_type": "code",
   "execution_count": 564,
   "metadata": {
    "collapsed": false
   },
   "outputs": [],
   "source": [
    "atlas = pd.read_csv('data/sampleAtlas.csv') # derived  from http://www.naturalearthdata.com/downloads/10m-cultural-vectors/10m-populated-places/\n",
    "atlas = pd.read_csv('data/world_cities.csv')\n",
    "tree = scipy.spatial.cKDTree(ghcn[['lon', 'lat']].values, leafsize=100)\n",
    "#import sys\n",
    "#sys.path.append('/../cityheat/Bmore/2015/')\n",
    "#sys.path.append('/Users/annascott2/mountpoint/cityheat/Bmore/2015/')\n",
    "#import spatialfunctions\n",
    "atlas = atlas[atlas['pop']> 500000]"
   ]
  },
  {
   "cell_type": "code",
   "execution_count": 539,
   "metadata": {
    "collapsed": true
   },
   "outputs": [],
   "source": [
    "atlas = pd.read_csv('data/world_cities.csv')"
   ]
  },
  {
   "cell_type": "code",
   "execution_count": 565,
   "metadata": {
    "collapsed": false,
    "scrolled": true
   },
   "outputs": [],
   "source": [
    "atlas = atlas[~atlas['country'].str.contains('United States')] # do non-US countries"
   ]
  },
  {
   "cell_type": "code",
   "execution_count": 537,
   "metadata": {
    "collapsed": false
   },
   "outputs": [],
   "source": [
    "#atlas = atlas[atlas['country'].str.contains('United States')]"
   ]
  },
  {
   "cell_type": "code",
   "execution_count": null,
   "metadata": {
    "collapsed": false,
    "scrolled": true
   },
   "outputs": [
    {
     "name": "stdout",
     "output_type": "stream",
     "text": [
      "no suitable urban station for Kandahar\n",
      "No pair found for Kandahar\n"
     ]
    }
   ],
   "source": [
    "brightness_threshold = 25 # this is the urban/rural threshold delimiter, difference between urban and rural\n",
    "outFile = 'worldghcnpairs_stationlengths.csv'\n",
    "pairs = []\n",
    "#for i in range(793, atlas.shape[0]): \n",
    "for i in range(0, atlas.shape[0]):\n",
    "    lat = atlas.iloc[i]['lat']\n",
    "    lon = atlas.iloc[i]['lng']\n",
    "    city = atlas.iloc[i]['city']\n",
    "    closeststations = tree.query([lon,lat], k =15, distance_upper_bound=1)\n",
    "\n",
    "    # Make sure the closest stations are within a finite distance\n",
    "    closestInds = closeststations[1][~np.isinf(closeststations[0])]\n",
    "    # make sure that there are stations \n",
    "    if closestInds.shape[0] > 0 : \n",
    "        urban = ghcn.Brightness[closestInds].argmax()\n",
    "        rural = ghcn.Brightness[closestInds].argmin()\n",
    "        #         if urban != rural: \n",
    "        urban_data = ulmo.ncdc.ghcn_daily.get_data(urban, as_dataframe=True, update=False)\n",
    "        rural_data = ulmo.ncdc.ghcn_daily.get_data(rural, as_dataframe=True, update=False)\n",
    "\n",
    "        number_urban_stations = (ghcn.Brightness[closestInds] >= brightness_threshold).sum() # number of urban stations is equivalent to brightness over 30\n",
    "        number_rural_stations = (ghcn.Brightness[closestInds] < brightness_threshold).sum() # number of rural stations is equivalent to brightness over 30\n",
    "        delta_brightness = 30\n",
    "        break_value = -1\n",
    "\n",
    "        iii = 1\n",
    "        while ('TMAX' not in urban_data.keys() or 'TMIN' not in urban_data.keys()) or (urban_data['TMAX'].index[0].to_timestamp().to_datetime() > startdate) or (urban_data['TMAX'].index[-1].to_timestamp().to_datetime() < enddate) : \n",
    "            # check if there's enough suitable urban stations to check the next one, ignoring the current one \n",
    "            if iii > number_urban_stations-1 : \n",
    "                print 'no suitable urban station for %s'%city\n",
    "                urban = break_value\n",
    "                break \n",
    "            # find the next brightest\n",
    "            print 'finding the next urban station for %s'%city\n",
    "            urban = ghcn.Brightness[closestInds][(-ghcn.Brightness[closestInds].values).argsort()].index[iii]\n",
    "            urban_data = ulmo.ncdc.ghcn_daily.get_data(urban, as_dataframe=True, update=False)\n",
    "            print urban, urban_data['TMAX'].index[0], urban_data['TMAX'].index[-1], ghcn.Brightness[urban], urban_data.keys()\n",
    "            iii = iii+1    \n",
    "\n",
    "        # if no urban station found, don't bother to pair with rural \n",
    "        if urban != break_value : \n",
    "            # check rural data station different from urban has TMIN, TMAX, a long enough record, and is rural enough compared to urban (delta_brightness)\n",
    "            iii = 1\n",
    "            enlarge_circle = 0 # number of times we can try increasing search radius\n",
    "            while (urban ==rural) or ('TMAX' not in rural_data.keys() and 'TMIN' not in rural_data.keys()) and (rural_data['TMIN'].index[0].to_timestamp().to_datetime() > startdate or rural_data['TMIN'].index[-1].to_timestamp().to_datetime() < enddate) or (ghcn.Brightness[urban]-ghcn.Brightness[rural]<delta_brightness): \n",
    "                print 'finding the next rural station for %s'%city\n",
    "\n",
    "                # if we can't find any suitable stations, try enlarging the search radius, but only try this once\n",
    "                if iii > number_rural_stations-1 : \n",
    "                    if enlarge_circle > 0 : \n",
    "                        rural = break_value\n",
    "                        break #break when we've already used up all the search\n",
    "                    else: \n",
    "                        # find 25 closest stations within 1.5 degree circle\n",
    "                        closeststations1 = tree.query([lon,lat], k =35, distance_upper_bound=1.5 ) \n",
    "                        # eliminate the ones we've already search \n",
    "                        new_stations = np.setdiff1d(closeststations1[1], closeststations[1])\n",
    "                        # Make sure that we've actually found new stations, otherwise break\n",
    "                        if new_stations.shape[0] >0 : \n",
    "                            # Make sure the closest stations are within a finite distance\n",
    "                            closestInds1 = closeststations1[1][~np.isinf(closeststations1[0])]\n",
    "                            # Eliminate repeat stations\n",
    "                            closestInds = np.intersect1d(new_stations, closestInds1)\n",
    "                            # reset counter, number of rural stations\n",
    "                            iii = 0\n",
    "                            number_rural_stations = (ghcn.Brightness[closestInds] < brightness_threshold).sum()\n",
    "                        else: \n",
    "                            rural = break_value\n",
    "                            break\n",
    "                        # reset list of rural stations\n",
    "                    print 'increasing search radius'\n",
    "                    enlarge_circle = enlarge_circle+1\n",
    "                    \n",
    "                # find the next dimmest\n",
    "                rural = ghcn.Brightness[closestInds][(ghcn.Brightness[closestInds].values).argsort()].index[iii]\n",
    "                rural_data = ulmo.ncdc.ghcn_daily.get_data(rural, as_dataframe=True, update=False)\n",
    "                #print rural, rural_data['TMIN'].index[0], rural_data['TMIN'].index[-1], ghcn.Brightness[rural], rural_data.keys()\n",
    "                iii = iii+1\n",
    "        else: \n",
    "            rural = break_value\n",
    "    # else condition for not being any stations\n",
    "    else: \n",
    "        urban = break_value \n",
    "        rural = break_value\n",
    "            \n",
    "    # save out if we've found a good pairing\n",
    "    if (urban != break_value) and (rural != break_value) : \n",
    "        print 'Found a pair for %s'%city\n",
    "        frames.append([city, urban, #['GHCN ID'],\n",
    "                       ghcn.loc[urban].lat, \n",
    "                       ghcn.loc[urban].lon, \n",
    "                       ghcn.loc[urban].Brightness, \n",
    "                       rural, #['GHCN ID'],\n",
    "                       ghcn.loc[rural].lat, \n",
    "                       ghcn.loc[rural].lon, \n",
    "\n",
    "                       ghcn.loc[rural].Brightness])\n",
    "    else : \n",
    "        print 'No pair found for %s'%city\n",
    "        frames.append([city, np.nan, #['GHCN ID'],\n",
    "                       np.nan,\n",
    "                       np.nan,\n",
    "                       np.nan, \n",
    "                       np.nan, #['GHCN ID'],\n",
    "                       np.nan,\n",
    "                       np.nan,\n",
    "                       np.nan])\n",
    "\n",
    "    # periodiically save out results\n",
    "    if i%50 ==0: \n",
    "        pairs = pd.DataFrame(frames, columns = ['City', 'Urban station', \n",
    "                                          'Urban Lat', 'Urban Lon','Urban brightness', \n",
    "                                          'Rural station', \n",
    "                                          'Rural Lat', 'Rural Lon','Rural brightness'])\n",
    "        pairs.to_csv(outFile)\n",
    "        \n",
    "pairs = pd.DataFrame(frames, columns = ['City', 'Urban station', \n",
    "                                  'Urban Lat', 'Urban Lon','Urban brightness', \n",
    "                                  'Rural station', \n",
    "                                  'Rural Lat', 'Rural Lon','Rural brightness'])\n",
    "pairs.to_csv(outFile)"
   ]
  },
  {
   "cell_type": "code",
   "execution_count": 560,
   "metadata": {
    "collapsed": false
   },
   "outputs": [
    {
     "data": {
      "text/plain": [
       "174"
      ]
     },
     "execution_count": 560,
     "metadata": {},
     "output_type": "execute_result"
    }
   ],
   "source": [
    "i"
   ]
  },
  {
   "cell_type": "code",
   "execution_count": 561,
   "metadata": {
    "collapsed": false
   },
   "outputs": [
    {
     "data": {
      "text/plain": [
       "array([1490])"
      ]
     },
     "execution_count": 561,
     "metadata": {},
     "output_type": "execute_result"
    }
   ],
   "source": [
    "closestInds"
   ]
  },
  {
   "cell_type": "code",
   "execution_count": 562,
   "metadata": {
    "collapsed": false
   },
   "outputs": [
    {
     "data": {
      "text/plain": [
       "True"
      ]
     },
     "execution_count": 562,
     "metadata": {},
     "output_type": "execute_result"
    }
   ],
   "source": [
    "np.isnan(urban)"
   ]
  },
  {
   "cell_type": "code",
   "execution_count": 563,
   "metadata": {
    "collapsed": false
   },
   "outputs": [
    {
     "data": {
      "text/plain": [
       "nan"
      ]
     },
     "execution_count": 563,
     "metadata": {},
     "output_type": "execute_result"
    }
   ],
   "source": [
    "urban"
   ]
  },
  {
   "cell_type": "code",
   "execution_count": null,
   "metadata": {
    "collapsed": true
   },
   "outputs": [],
   "source": []
  },
  {
   "cell_type": "code",
   "execution_count": 501,
   "metadata": {
    "collapsed": false
   },
   "outputs": [
    {
     "data": {
      "text/plain": [
       "False"
      ]
     },
     "execution_count": 501,
     "metadata": {},
     "output_type": "execute_result"
    }
   ],
   "source": [
    "(urban ==rural) or ('TMAX' not in rural_data.keys() and 'TMIN' not in rural_data.keys()) #or (rural_data['TMAX'].index[0].to_timestamp().to_datetime() > startdate) or (rural_data['TMAX'].index[-1].to_timestamp().to_datetime() < enddate) or (ghcn.Brightness[urban]-ghcn.Brightness[rural]>delta_brightness)"
   ]
  },
  {
   "cell_type": "code",
   "execution_count": 18,
   "metadata": {
    "collapsed": false
   },
   "outputs": [],
   "source": [
    "# # calculate the brightness index for all stations\n",
    "# from osgeo import ogr, osr\n",
    "# import os\n",
    "# from shapely.geometry import Point\n",
    "# import shapely.geometry\n",
    "# import shapely.wkt\n",
    "# from cartopy.feature import ShapelyFeature\n",
    "# from cartopy.io.shapereader import Reader\n",
    "# import gdal\n",
    "\n",
    "# # rasterfile = 'data/F182013.v4/F182013.v4c_web.stable_lights.avg_vis.tif'\n",
    "# # layer = gdal.Open(rasterfile)\n",
    "# # gt =layer.GetGeoTransform()\n",
    "# # bands = layer.RasterCount\n",
    "# # src = layer.GetRasterBand(1)\n",
    "# X = ghcnSubset['lon']\n",
    "# Y = ghcnSubset['lat']"
   ]
  },
  {
   "cell_type": "code",
   "execution_count": null,
   "metadata": {
    "collapsed": true
   },
   "outputs": [],
   "source": []
  },
  {
   "cell_type": "code",
   "execution_count": 19,
   "metadata": {
    "collapsed": false
   },
   "outputs": [
    {
     "ename": "AttributeError",
     "evalue": "'NoneType' object has no attribute 'GetGeoTransform'",
     "output_type": "error",
     "traceback": [
      "\u001b[0;31m---------------------------------------------------------------------------\u001b[0m",
      "\u001b[0;31mAttributeError\u001b[0m                            Traceback (most recent call last)",
      "\u001b[0;32m<ipython-input-19-0f6e5b3aad17>\u001b[0m in \u001b[0;36m<module>\u001b[0;34m()\u001b[0m\n\u001b[1;32m      2\u001b[0m \u001b[0mrasterfile\u001b[0m \u001b[0;34m=\u001b[0m \u001b[0;34m'data/F182013.v4/F182013.v4c_web.avg_vis.tif'\u001b[0m\u001b[0;34m\u001b[0m\u001b[0m\n\u001b[1;32m      3\u001b[0m \u001b[0mlayer\u001b[0m \u001b[0;34m=\u001b[0m \u001b[0mgdal\u001b[0m\u001b[0;34m.\u001b[0m\u001b[0mOpen\u001b[0m\u001b[0;34m(\u001b[0m\u001b[0mrasterfile\u001b[0m\u001b[0;34m)\u001b[0m\u001b[0;34m\u001b[0m\u001b[0m\n\u001b[0;32m----> 4\u001b[0;31m \u001b[0mgt\u001b[0m \u001b[0;34m=\u001b[0m\u001b[0mlayer\u001b[0m\u001b[0;34m.\u001b[0m\u001b[0mGetGeoTransform\u001b[0m\u001b[0;34m(\u001b[0m\u001b[0;34m)\u001b[0m\u001b[0;34m\u001b[0m\u001b[0m\n\u001b[0m\u001b[1;32m      5\u001b[0m \u001b[0mbands\u001b[0m \u001b[0;34m=\u001b[0m \u001b[0mlayer\u001b[0m\u001b[0;34m.\u001b[0m\u001b[0mRasterCount\u001b[0m\u001b[0;34m\u001b[0m\u001b[0m\n\u001b[1;32m      6\u001b[0m \u001b[0msrc\u001b[0m \u001b[0;34m=\u001b[0m \u001b[0mlayer\u001b[0m\u001b[0;34m.\u001b[0m\u001b[0mGetRasterBand\u001b[0m\u001b[0;34m(\u001b[0m\u001b[0;36m1\u001b[0m\u001b[0;34m)\u001b[0m\u001b[0;34m\u001b[0m\u001b[0m\n",
      "\u001b[0;31mAttributeError\u001b[0m: 'NoneType' object has no attribute 'GetGeoTransform'"
     ]
    }
   ],
   "source": [
    "# #rasterfile = 'data/F182013.v4/F182013.v4c_web.stable_lights.avg_vis.tif'\n",
    "# rasterfile = 'data/F182013.v4/F182013.v4c_web.avg_vis.tif'\n",
    "# layer = gdal.Open(rasterfile)\n",
    "# gt =layer.GetGeoTransform()\n",
    "# bands = layer.RasterCount\n",
    "# src = layer.GetRasterBand(1)\n",
    "\n",
    "# BI = np.zeros(X.shape)\n",
    "# i = 0 \n",
    "# for x,y in zip(X,Y): \n",
    "#     rasterx = int((x - gt[0]) / gt[1])\n",
    "#     rastery = int((y - gt[3]) / gt[5])\n",
    "#     BI[i] = src.ReadAsArray(rasterx,rastery, win_xsize=1, win_ysize=1)\n",
    "#     i = i+1\n",
    "\n",
    "# #np.save('brightnessGHCNsubset.npy', BI)\n",
    "# #BI = np.load('data/brightnessGHCN.npy')"
   ]
  },
  {
   "cell_type": "code",
   "execution_count": null,
   "metadata": {
    "collapsed": true
   },
   "outputs": [],
   "source": []
  }
 ],
 "metadata": {
  "kernelspec": {
   "display_name": "Python 2",
   "language": "python",
   "name": "python2"
  },
  "language_info": {
   "codemirror_mode": {
    "name": "ipython",
    "version": 2
   },
   "file_extension": ".py",
   "mimetype": "text/x-python",
   "name": "python",
   "nbconvert_exporter": "python",
   "pygments_lexer": "ipython2",
   "version": "2.7.12"
  }
 },
 "nbformat": 4,
 "nbformat_minor": 0
}
