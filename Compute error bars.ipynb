{
 "cells": [
  {
   "cell_type": "code",
   "execution_count": 1,
   "metadata": {
    "collapsed": false
   },
   "outputs": [
    {
     "name": "stderr",
     "output_type": "stream",
     "text": [
      "/Users/ascott47/anaconda/lib/python3.6/site-packages/ulmo/twc/kbdi/core.py:20: FutureWarning: pandas.tslib is deprecated and will be removed in a future version.\n",
      "You can access Timestamp as pandas.Timestamp\n",
      "  CSV_SWITCHOVER = pandas.tslib.Timestamp('2016-10-01')\n"
     ]
    }
   ],
   "source": [
    "# import libraries\n",
    "%matplotlib inline\n",
    "import numpy as np\n",
    "#import csv\n",
    "import matplotlib.pyplot as plt\n",
    "import pandas as pd\n",
    "import glob\n",
    "import ulmo\n",
    "import os\n",
    "import scipy.spatial\n",
    "import scipy.stats\n",
    "import matplotlib\n",
    "matplotlib.rcParams.update({'font.size': 18})"
   ]
  },
  {
   "cell_type": "code",
   "execution_count": 2,
   "metadata": {
    "collapsed": false
   },
   "outputs": [
    {
     "data": {
      "text/plain": [
       "0"
      ]
     },
     "execution_count": 2,
     "metadata": {},
     "output_type": "execute_result"
    }
   ],
   "source": [
    "2-2"
   ]
  },
  {
   "cell_type": "code",
   "execution_count": 2,
   "metadata": {
    "collapsed": true
   },
   "outputs": [],
   "source": [
    "# plotting utilities\n",
    "def lin_trend_plot(start_x, y,title, xlabel, ylabel) : \n",
    "# plots x,y (need to be np array) and calculates and prints their best fit line\n",
    "    ind = ~np.isnan(y.values)# & ~np.isnan(x) # subset values that aren't NaNs\n",
    "    x = np.arange(0,y.shape[0])\n",
    "    m, b, r_value, p, std_err = scipy.stats.linregress(x[ind],y[ind])\n",
    "    plt.scatter(x+start_x,y)\n",
    "    plt.plot(x+start_x, m*x+b, color = 'black')\n",
    "    plt.title(title)\n",
    "    plt.ylabel(ylabel)\n",
    "    plt.xlabel(xlabel)\n",
    "    # annotate the linear reqression, y = mx+b\n",
    "    plt.annotate('y = %.2f x + %.2f'%(m,b), xy=(.5, .9), xycoords='axes fraction',  horizontalalignment='left', verticalalignment='bottom')\n",
    "    plt.annotate('r = %.2f'%(r_value), xy=(.5, .85), xycoords='axes fraction',  horizontalalignment='left', verticalalignment='bottom')\n",
    "    plt.annotate('p = %.2f'%(p), xy=(.5, .8), xycoords='axes fraction',  horizontalalignment='left', verticalalignment='bottom')\n",
    "    plt.annotate('N = %i'%(ind.shape), xy=(.5, .75), xycoords='axes fraction',  horizontalalignment='left', verticalalignment='bottom')\n",
    "    return m, b, r_value, p, std_err\n",
    "\n",
    "def easy_scatter(x,y,title, xlabel, ylabel) : \n",
    "# plots x,y (need to be np array) and calculates and prints their best fit line\n",
    "    ind = ~np.isnan(y) & ~np.isnan(x) # subset values that aren't NaNs\n",
    "    m,b = np.polyfit(x[ind],y[ind],1)\n",
    "    r, p = scipy.stats.pearsonr(x[ind], y[ind]) #np.corrcoef(x[ind],y[ind])[0,1]\n",
    "    plt.scatter(x,y)\n",
    "    plt.plot(x, m*x+b, color = 'black')\n",
    "    plt.title(title)\n",
    "    plt.ylabel(ylabel)\n",
    "    plt.xlabel(xlabel)\n",
    "    # annotate the linear reqression, y = mx+b\n",
    "    plt.annotate('y = %.2f x + %.2f'%(m,b), xy=(.5, .9), xycoords='axes fraction',  horizontalalignment='left', verticalalignment='bottom')\n",
    "    plt.annotate('r = %.2f'%(r), xy=(.5, .85), xycoords='axes fraction',  horizontalalignment='left', verticalalignment='bottom')\n",
    "    plt.annotate('p = %.2f'%(p), xy=(.5, .8), xycoords='axes fraction',  horizontalalignment='left', verticalalignment='bottom')\n",
    "    plt.annotate('N = %i'%(ind.shape), xy=(.5, .75), xycoords='axes fraction',  horizontalalignment='left', verticalalignment='bottom')\n",
    "    return m, r, p\n",
    "\n",
    "def how_UHI_varies(mean_UHIs, closeststations_distance): \n",
    "    plt.figure(figsize= [12,4])\n",
    "    plt.subplot(1,3,1)\n",
    "    data = mean_UHIs[~np.isnan(mean_UHIs)]\n",
    "    plt.hist(data)\n",
    "    plt.xlabel('$\\Delta T$ ($\\Delta ^\\circ$C)')\n",
    "    plt.ylabel('Count')\n",
    "    plt.annotate('min = %.2f'%(data.min()), xy=(0, .94), xycoords='axes fraction',  horizontalalignment='left', verticalalignment='bottom')\n",
    "    plt.annotate('max = %.2f'%(data.max()), xy=(0, .89), xycoords='axes fraction',  horizontalalignment='left', verticalalignment='bottom')\n",
    "    plt.annotate('$\\mu$ = %.2f'%(data.mean()), xy=(0, .84), xycoords='axes fraction',  horizontalalignment='left', verticalalignment='bottom')\n",
    "    plt.annotate('$\\sigma$ = %.2f'%(data.std()), xy=(0, .79), xycoords='axes fraction',  horizontalalignment='left', verticalalignment='bottom')\n",
    "    plt.title('Histogram of $\\Delta T$')\n",
    "\n",
    "    plt.subplot(1,3,2)\n",
    "    m,r,p = easy_scatter(closeststations_distance, mean_UHIs, \n",
    "                 'Distance to rural station vs. $\\Delta T$ ', \n",
    "             'Distance to rural station (degrees lat/lon)', '$\\Delta T$ ($\\Delta ^\\circ$C)',\n",
    "             )\n",
    "\n",
    "    plt.subplot(1,3,3)\n",
    "    m2,r2,p2 = easy_scatter(ghcn.loc[rural_station_list].Brightness.values, mean_UHIs, \n",
    "                 'Brightness versus $\\Delta T$', \n",
    "                 'Satellite Brightness Index', '$\\Delta T$ ($\\Delta ^\\circ$C)',\n",
    "                 )\n",
    "    return m,r,p"
   ]
  },
  {
   "cell_type": "code",
   "execution_count": 4,
   "metadata": {
    "collapsed": false
   },
   "outputs": [],
   "source": [
    "# readin in GHCN data \n",
    "ghcn = pd.read_fwf('data/ghcnd-stations.txt', colspecs = [(0,11), (12,19), (21,29), (31,36),(38,40), (41,70), (72,74),(76,78),(80,85)], header = None) \n",
    "colnames = ['GHCN ID', 'lat', 'lon', 'elevation', 'state', 'name', 'gsn flag', 'HCN/CRN FLAG', 'WMO ID']\n",
    "ghcn.columns = colnames\n",
    "\n",
    "# append the brightness index \n",
    "BI = np.load('data/brightnessGHCN.npy')\n",
    "ghcn['Brightness'] = BI\n",
    "\n",
    "currentstations = ulmo.ncdc.ghcn_daily.get_stations(start_year=1985, end_year = 2016, elements = ['TMIN', 'TMAX', 'AWND'], as_dataframe=True, update=False)\n",
    "currentGHCNstations = np.intersect1d(currentstations.id, ghcn['GHCN ID'].values)\n",
    "ghcnSubset = ghcn.set_index('GHCN ID').loc[currentstations.id.values]\n",
    "# at this point, ghcn must have the station id set as the index \n",
    "\n",
    "ghcn_noairport = ghcn[~ghcn.name.str.contains('INTL')]\n",
    "ghcn_noairport = ghcn_noairport[~ghcn_noairport.name.str.contains(' AP')]\n",
    "ghcn_noairport = ghcn_noairport[~ghcn_noairport.name.str.contains('AIRPORT')]\n",
    "ghcn = ghcn_noairport.set_index('GHCN ID').loc[currentstations.id.values]\n",
    "\n",
    "# generate atlas of cities and k-d tree \n",
    "atlas = pd.read_csv('data/world_cities.csv')\n",
    "atlas = atlas[(atlas['country'] == 'United States of America')]# & (atlas['pop']>100000)]\n",
    "atlas = atlas.set_index('city')\n",
    "tree = scipy.spatial.cKDTree(ghcn[['lon', 'lat']].values, leafsize=100)\n",
    "#atlas = atlas[atlas['pop']> 500000]\n",
    "\n",
    "paired_df = pd.read_csv('USpairs2005-2015.csv').set_index('City', drop = False)\n",
    "paired_df = paired_df[paired_df['Urban distance'] < 0.25]\n",
    "\n",
    "results = np.ones([paired_df.shape[0],11])*np.nan # save out min,max, mean, std, m,r,p\n",
    "results_filepath = 'plots/version6/errorbars/'"
   ]
  },
  {
   "cell_type": "code",
   "execution_count": 44,
   "metadata": {
    "collapsed": false
   },
   "outputs": [],
   "source": [
    "mkdir plots/version6/errorbars"
   ]
  },
  {
   "cell_type": "code",
   "execution_count": 5,
   "metadata": {
    "collapsed": false
   },
   "outputs": [
    {
     "name": "stdout",
     "output_type": "stream",
     "text": [
      "Mesa\n"
     ]
    },
    {
     "name": "stderr",
     "output_type": "stream",
     "text": [
      "/Users/ascott47/anaconda/lib/python3.6/site-packages/ulmo/ncdc/ghcn_daily/core.py:89: SettingWithCopyWarning: \n",
      "A value is trying to be set on a copy of a slice from a DataFrame.\n",
      "Try using .loc[row_indexer,col_indexer] = value instead\n",
      "\n",
      "See the caveats in the documentation: http://pandas.pydata.org/pandas-docs/stable/indexing.html#indexing-view-versus-copy\n",
      "  axis=1)\n",
      "/Users/ascott47/anaconda/lib/python3.6/site-packages/ulmo/ncdc/ghcn_daily/core.py:95: FutureWarning: \n",
      ".resample() is now a deferred operation\n",
      "You called index(...) on this deferred object which materialized it into a dataframe\n",
      "by implicitly taking the mean.  Use .resample(...).mean() instead\n",
      "  daily_index = element_df.resample('D').index.copy()\n"
     ]
    }
   ],
   "source": [
    "city = 'Mesa'\n",
    "### Set variables\n",
    "print(city)\n",
    "urbanID = paired_df.loc[city]['Urban station']\n",
    "urbandata = ulmo.ncdc.ghcn_daily.get_data(urbanID,\n",
    "                                     as_dataframe=True, update = False)\n",
    "urban_tmin = pd.to_numeric(urbandata['TMIN']['2000-01-01':].value/10.) \n",
    "urban_tmin.loc[urbandata['TMIN']['2000-01-01':]['qflag'].dropna().index] = np.nan\n",
    "urban_summer = urban_tmin[(urban_tmin.index.month >= 6) & (urban_tmin.index.month <= 8)]\n",
    "# set lat/lon\n",
    "try: # if  \n",
    "    if atlas[atlas.index==city].shape[0]>1 : # if more than one hit for the city, eg, Kansas City (MO and KS)\n",
    "            lat = atlas.loc[city]['lat'][0]\n",
    "            lon = atlas.loc[city]['lng'] [1]\n",
    "    else: \n",
    "        lat = atlas[atlas['pop']> 300000].loc[city]['lat']\n",
    "        lon = atlas[atlas['pop']> 300000].loc[city]['lng']        \n",
    "# try to fix if there are two such cities in the atlas; take the second one\n",
    "except IndexError: \n",
    "    lat = atlas[atlas['pop']> 300000].loc[city]['lat'][1]\n",
    "    lon = atlas[atlas['pop']> 300000].loc[city]['lng'][1]\n",
    "# find the closest stations\n",
    "closeststations = tree.query([lon,lat], k =35, distance_upper_bound=1.5) #used in pairing algorithm: .5\n",
    "cols = ['Distance', 'Index', 'GHCNID', 'Brightness']"
   ]
  },
  {
   "cell_type": "code",
   "execution_count": 8,
   "metadata": {
    "collapsed": false
   },
   "outputs": [
    {
     "data": {
      "text/plain": [
       "(33.423914609999997, -111.73608440000001)"
      ]
     },
     "execution_count": 8,
     "metadata": {},
     "output_type": "execute_result"
    }
   ],
   "source": [
    "lat, lon"
   ]
  },
  {
   "cell_type": "code",
   "execution_count": 7,
   "metadata": {
    "collapsed": false
   },
   "outputs": [
    {
     "data": {
      "text/plain": [
       "(array([ 0.08292739,  0.09221545,  0.15282465,  0.17957532,  0.18491879,\n",
       "         0.22573856,  0.24113618,  0.2579119 ,  0.3215709 ,  0.32743828,\n",
       "         0.33666198,  0.34675309,  0.35318386,  0.35533968,  0.38165245,\n",
       "         0.39480938,  0.42021496,  0.42535645,  0.42784842,  0.47419441,\n",
       "         0.47860788,  0.52119142,  0.53750026,  0.59025405,  0.60893941,\n",
       "         0.62185774,  0.63139606,  0.63681901,  0.64329358,  0.64584151,\n",
       "         0.65098671,  0.67889616,  0.69537766,  0.83784176,  0.84701399]),\n",
       " array([11159, 11113, 11211, 11121, 11230, 11096, 11223, 11062, 11164,\n",
       "        11187, 11221, 22627, 11196, 22404, 11108, 11069, 11149, 11090,\n",
       "        11154, 11092, 22407, 11117, 11091, 11259, 11192, 11194, 11151,\n",
       "        11195, 19291, 19368, 11227, 11115, 11064, 11094, 11184]))"
      ]
     },
     "execution_count": 7,
     "metadata": {},
     "output_type": "execute_result"
    }
   ],
   "source": [
    "closeststations"
   ]
  },
  {
   "cell_type": "code",
   "execution_count": null,
   "metadata": {
    "collapsed": false,
    "scrolled": true
   },
   "outputs": [
    {
     "name": "stdout",
     "output_type": "stream",
     "text": [
      "Fort Lauderdale\n"
     ]
    },
    {
     "name": "stderr",
     "output_type": "stream",
     "text": [
      "/Users/ascott47/anaconda/lib/python3.6/site-packages/ulmo/ncdc/ghcn_daily/core.py:89: SettingWithCopyWarning: \n",
      "A value is trying to be set on a copy of a slice from a DataFrame.\n",
      "Try using .loc[row_indexer,col_indexer] = value instead\n",
      "\n",
      "See the caveats in the documentation: http://pandas.pydata.org/pandas-docs/stable/indexing.html#indexing-view-versus-copy\n",
      "  axis=1)\n",
      "/Users/ascott47/anaconda/lib/python3.6/site-packages/ulmo/ncdc/ghcn_daily/core.py:95: FutureWarning: \n",
      ".resample() is now a deferred operation\n",
      "You called index(...) on this deferred object which materialized it into a dataframe\n",
      "by implicitly taking the mean.  Use .resample(...).mean() instead\n",
      "  daily_index = element_df.resample('D').index.copy()\n"
     ]
    }
   ],
   "source": [
    "brightness_threshold = 25\n",
    "#redo_cities = np.where(np.isnan(results[:,0]))[0]\n",
    "for city in paired_df.index[3:]: # probalby need to redo 1-15\n",
    "    ### Set variables\n",
    "    print(city)\n",
    "    urbanID = paired_df.loc[city]['Urban station']\n",
    "    urbandata = ulmo.ncdc.ghcn_daily.get_data(urbanID,\n",
    "                                         as_dataframe=True, update = False)\n",
    "    urban_tmin = pd.to_numeric(urbandata['TMIN']['2000-01-01':].value/10.) \n",
    "    urban_tmin.loc[urbandata['TMIN']['2000-01-01':]['qflag'].dropna().index] = np.nan\n",
    "    urban_summer = urban_tmin[(urban_tmin.index.month >= 6) & (urban_tmin.index.month <= 8)]\n",
    "    # set lat/lon\n",
    "    try: # if  \n",
    "        if atlas[atlas.index==city].shape[0]>1 : # if more than one hit for the city, eg, Kansas City (MO and KS)\n",
    "                lat = atlas.loc[city]['lat'][0]\n",
    "                lon = atlas.loc[city]['lng'] [1]\n",
    "        else: \n",
    "            lat = atlas[atlas['pop']> 300000].loc[city]['lat']\n",
    "            lon = atlas[atlas['pop']> 300000].loc[city]['lng']        \n",
    "    # try to fix if there are two such cities in the atlas; take the second one\n",
    "    except IndexError: \n",
    "        lat = atlas[atlas['pop']> 300000].loc[city]['lat'][1]\n",
    "        lon = atlas[atlas['pop']> 300000].loc[city]['lng'][1]\n",
    "    # find the closest stations\n",
    "    closeststations = tree.query([lon,lat], k =35, distance_upper_bound=1.5) #used in pairing algorithm: .5\n",
    "    cols = ['Distance', 'Index', 'GHCNID', 'Brightness']\n",
    "    try: \n",
    "        # get station ids\n",
    "        stations = pd.DataFrame(np.array([closeststations[0][~np.isinf(closeststations[0])].astype(float),\n",
    "                                          closeststations[1][~np.isinf(closeststations[0])],\n",
    "                                          ghcn.iloc[closeststations[1][~np.isinf(closeststations[0])]]['Brightness'].index,\n",
    "                                          ghcn.iloc[closeststations[1][~np.isinf(closeststations[0])]]['Brightness'].values]).T, \n",
    "                    columns = cols).set_index('GHCNID').drop(urbanID)\n",
    "        stations = stations[~np.isinf(stations['Distance'].values.astype(float))]\n",
    "    except IndexError: \n",
    "        closeststations = closeststations[0]\n",
    "        stations = pd.DataFrame(np.array([closeststations[0].astype(float),closeststations[1], ghcn.iloc[closeststations[1]]['Brightness'].index, ghcn.iloc[closeststations[1]]['Brightness'].values]).T, \n",
    "                columns = cols).set_index('GHCNID').drop(urbanID)\n",
    "        stations = stations[~np.isinf(stations['Distance'].values.astype(float))]\n",
    "    except ValueError: # got this when urban ID wasn't in the stations for Jacksonville, should maybe check\n",
    "        stations = pd.DataFrame(np.array([closeststations[0].astype(float),closeststations[1], ghcn.iloc[closeststations[1]]['Brightness'].index, ghcn.iloc[closeststations[1]]['Brightness'].values]).T, \n",
    "            columns = cols).set_index('GHCNID')#.drop(urbanID)\n",
    "        stations = stations[~np.isinf(stations['Distance'].values.astype(float))]\n",
    "    #rural_stations = stations.index\n",
    "    # select only dim stations\n",
    "    rural_station_list = stations[stations.Brightness < 25].index\n",
    "    rural_distance = stations[stations.Brightness < 25].Distance.values.astype(float)\n",
    "    # if there are rural stations available, do analysis\n",
    "    if len(rural_station_list) > 0 :# & (ind.sum() > 0): \n",
    "        # preallocate\n",
    "        mean_rural = np.ones(len(rural_station_list))*np.nan\n",
    "        mean_ms = np.ones(len(rural_station_list))*np.nan\n",
    "        mean_rs = np.ones(len(rural_station_list))*np.nan\n",
    "        mean_ps = np.ones(len(rural_station_list))*np.nan\n",
    "        mean_Trslopes =  np.ones(len(rural_station_list))*np.nan\n",
    "        ii = 0 \n",
    "        # loop over rural stations\n",
    "        for rural_id in rural_station_list: #[2:] : \n",
    "            # read in rural data\n",
    "            ruraldata = ulmo.ncdc.ghcn_daily.get_data(rural_id, as_dataframe=True, update=False)\n",
    "            ######\n",
    "            ###### Import data\n",
    "            ######\n",
    "            rural_tmin = pd.to_numeric(ruraldata['TMIN']['2000-01-01':].value/10.) #rural tmin\n",
    "            # drop data with flags here\n",
    "            rural_tmin.loc[ruraldata['TMIN']['2000-01-01':]['qflag'].dropna().index] = np.nan\n",
    "            # extract summertime data \n",
    "            rural_summer = rural_tmin[(rural_tmin.index.month >= 6) & (rural_tmin.index.month <= 8)]            \n",
    "            ######\n",
    "            ###### calculate mean rural temp\n",
    "            ######  \n",
    "            mean_rural[ii] = np.nanmean(rural_summer)\n",
    "            ######\n",
    "            ###### calculate slope \n",
    "            ######\n",
    "            ind = ~np.isnan(rural_summer) & ~np.isnan(urban_summer[rural_summer.index])\n",
    "            if ind.shape[0] > 0 : \n",
    "                if rural_summer.shape[0] < urban_summer.shape[0] : # if rural data smaller, subset UHI\n",
    "                    if ind.sum() > 2: \n",
    "                        x = rural_summer[urban_summer.index.dropna()]\n",
    "                        y = urban_summer[x.index]\n",
    "                        m, b, r, p, std_err = scipy.stats.linregress(x,y)#                         m, r, p = easy_scatter(rural_summer[ind],urban_summer[ind],\n",
    "    #                                                '%s JJA $T_r$ vs. $\\Delta T$'%city, 'Rural Temp ($^\\circ$C)', 'UHI ($\\Delta ^\\circ$C)')\n",
    "                else: # otherwise, subset rural data with UHI\n",
    "                    if ind.sum() > 2: \n",
    "                        x = rural_summer[urban_summer.index.dropna()]\n",
    "                        y = urban_summer[x.index]\n",
    "                        m, b, r, p, std_err = scipy.stats.linregress(x,y)\n",
    "    #                     m, r, p = easy_scatter(x,y,\n",
    "    #                                                '%s JJA $T_r$ vs. $\\Delta T$'%city, 'Rural Temp ($^\\circ$C)', 'UHI ($\\Delta ^\\circ$C)')\n",
    "    #                 plt.close()\n",
    "                mean_ms[ii] = m\n",
    "                mean_rs[ii] = r\n",
    "                mean_ps[ii] = p\n",
    "                ######\n",
    "                ###### calculate rural trend of annual means (to solve for data availability and to get meaningful units)\n",
    "                ######\n",
    "                try: \n",
    "                    x = rural_summer.groupby(rural_summer.index.year).mean().dropna()\n",
    "                    y = x.index - x.index[0]\n",
    "                    m, b, r, p, std_err = scipy.stats.linregress(x,y)\n",
    "                    mean_Trslopes[ii] = m\n",
    "                except ValueError:\n",
    "                    mean_Trslopes[ii] = np.nan\n",
    "                except KeyError: \n",
    "                    print('missing data from station', rural_id)\n",
    "                except TypeError: \n",
    "                    print('probably not enough data')\n",
    "                #except: \n",
    "                #    print 'unkown error'\n",
    "                ii = ii+1\n",
    "                np.save(results_filepath+'trend/'+ city.replace(\" \", \"\")[0:5]+'Trtrend.npy', mean_Trslopes)\n",
    "                np.save(results_filepath+'slopes/'+ city.replace(\" \", \"\")[0:5]+'m.npy', mean_ms)\n",
    "                np.save(results_filepath+'slopes/'+ city.replace(\" \", \"\")[0:5]+'r.npy', mean_ms)\n",
    "                np.save(results_filepath+'slopes/'+ city.replace(\" \", \"\")[0:5]+'p.npy', mean_ps)\n",
    "                np.save(results_filepath+'values/'+ city.replace(\" \", \"\")[0:5]+'rural.npy', mean_rural)\n",
    "    else: \n",
    "        print( 'Not enough rural stations for %s'%city)\n",
    "\n",
    "#     if np.mod(i,10) == 0 : \n",
    "#         np.savetxt(results_filepath+'results.csv', results, delimiter = ',')\n",
    "        \n",
    "#np.savetxt(results_filepath+'results.csv', results, delimiter = ',')"
   ]
  },
  {
   "cell_type": "code",
   "execution_count": null,
   "metadata": {
    "collapsed": true
   },
   "outputs": [],
   "source": []
  }
 ],
 "metadata": {
  "kernelspec": {
   "display_name": "Python 3",
   "language": "python",
   "name": "python3"
  },
  "language_info": {
   "codemirror_mode": {
    "name": "ipython",
    "version": 3
   },
   "file_extension": ".py",
   "mimetype": "text/x-python",
   "name": "python",
   "nbconvert_exporter": "python",
   "pygments_lexer": "ipython3",
   "version": "3.6.0"
  }
 },
 "nbformat": 4,
 "nbformat_minor": 0
}
