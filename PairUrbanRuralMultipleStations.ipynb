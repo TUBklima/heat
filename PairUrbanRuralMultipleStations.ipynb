{
 "cells": [
  {
   "cell_type": "code",
   "execution_count": 1,
   "metadata": {
    "collapsed": true
   },
   "outputs": [],
   "source": [
    "# import libraries\n",
    "%matplotlib inline\n",
    "import numpy as np\n",
    "#import csv\n",
    "import matplotlib.pyplot as plt\n",
    "import pandas as pd\n",
    "import glob\n",
    "import ulmo\n",
    "import os\n",
    "import scipy.spatial"
   ]
  },
  {
   "cell_type": "code",
   "execution_count": 2,
   "metadata": {
    "collapsed": false
   },
   "outputs": [],
   "source": [
    "ghcn = pd.read_fwf('data/ghcnd-stations.txt', colspecs = [(0,11), (12,19), (21,29), (31,36),(38,40), (41,70), (72,74),(76,78),(80,85)], header = None) \n",
    "colnames = ['GHCN ID', 'lat', 'lon', 'elevation', 'state', 'name', 'gsn flag', 'HCN/CRN FLAG', 'WMO ID']\n",
    "ghcn.columns = colnames\n",
    "\n",
    "# append the brightness index \n",
    "BI = np.load('data/brightnessGHCN.npy')\n",
    "ghcn['Brightness'] = BI\n",
    "# from http://www1.ncdc.noaa.gov/pub/data/ghcn/daily/readme.txt\n",
    "# FORMAT OF \"ghcnd-stations.txt\"\n",
    "#\n",
    "# ------------------------------\n",
    "# Variable   Columns   Type\n",
    "# ------------------------------\n",
    "# ID            1-11   Character\n",
    "# LATITUDE     13-20   Real\n",
    "# LONGITUDE    22-30   Real\n",
    "# ELEVATION    32-37   Real\n",
    "# STATE        39-40   Character\n",
    "# NAME         42-71   Character\n",
    "# GSN FLAG     73-75   Character\n",
    "# HCN/CRN FLAG 77-79   Character\n",
    "# WMO ID       81-85   Character\n",
    "# ------------------------------\n",
    "\n",
    "# These variables have the following definitions:\n",
    "\n",
    "# ID         is the station identification code.  Note that the first two\n",
    "#            characters denote the FIPS  country code, the third character \n",
    "#            is a network code that identifies the station numbering system \n",
    "#            used, and the remaining eight characters contain the actual \n",
    "#            station ID. \n",
    "\n",
    "#            See \"ghcnd-countries.txt\" for a complete list of country codes.\n",
    "# \t   See \"ghcnd-states.txt\" for a list of state/province/territory codes.\n",
    "\n",
    "#            The network code  has the following five values:\n",
    "\n",
    "#            0 = unspecified (station identified by up to eight \n",
    "# \t       alphanumeric characters)\n",
    "# \t   1 = Community Collaborative Rain, Hail,and Snow (CoCoRaHS)\n",
    "# \t       based identification number.  To ensure consistency with\n",
    "# \t       with GHCN Daily, all numbers in the original CoCoRaHS IDs\n",
    "# \t       have been left-filled to make them all four digits long. \n",
    "# \t       In addition, the characters \"-\" and \"_\" have been removed \n",
    "# \t       to ensure that the IDs do not exceed 11 characters when \n",
    "# \t       preceded by \"US1\". For example, the CoCoRaHS ID \n",
    "# \t       \"AZ-MR-156\" becomes \"US1AZMR0156\" in GHCN-Daily\n",
    "#            C = U.S. Cooperative Network identification number (last six \n",
    "#                characters of the GHCN-Daily ID)\n",
    "# \t   E = Identification number used in the ECA&D non-blended\n",
    "# \t       dataset\n",
    "# \t   M = World Meteorological Organization ID (last five\n",
    "# \t       characters of the GHCN-Daily ID)\n",
    "# \t   N = Identification number used in data supplied by a \n",
    "# \t       National Meteorological or Hydrological Center\n",
    "# \t   R = U.S. Interagency Remote Automatic Weather Station (RAWS)\n",
    "# \t       identifier\n",
    "# \t   S = U.S. Natural Resources Conservation Service SNOwpack\n",
    "# \t       TELemtry (SNOTEL) station identifier\n",
    "#            W = WBAN identification number (last five characters of the \n",
    "#                GHCN-Daily ID)\n",
    "\n",
    "# LATITUDE   is latitude of the station (in decimal degrees).\n",
    "\n",
    "# LONGITUDE  is the longitude of the station (in decimal degrees).\n",
    "\n",
    "# ELEVATION  is the elevation of the station (in meters, missing = -999.9).\n",
    "\n",
    "\n",
    "# STATE      is the U.S. postal code for the state (for U.S. stations only).\n",
    "\n",
    "# NAME       is the name of the station.\n",
    "\n",
    "# GSN FLAG   is a flag that indicates whether the station is part of the GCOS\n",
    "#            Surface Network (GSN). The flag is assigned by cross-referencing \n",
    "#            the number in the WMOID field with the official list of GSN \n",
    "#            stations. There are two possible values:\n",
    "\n",
    "#            Blank = non-GSN station or WMO Station number not available\n",
    "#            GSN   = GSN station \n",
    "\n",
    "# HCN/      is a flag that indicates whether the station is part of the U.S.\n",
    "# CRN FLAG  Historical Climatology Network (HCN).  There are three possible \n",
    "#           values:\n",
    "\n",
    "#            Blank = Not a member of the U.S. Historical Climatology \n",
    "# \t           or U.S. Climate Reference Networks\n",
    "#            HCN   = U.S. Historical Climatology Network station\n",
    "# \t   CRN   = U.S. Climate Reference Network or U.S. Regional Climate \n",
    "# \t           Network Station\n",
    "\n",
    "# WMO ID     is the World Meteorological Organization (WMO) number for the\n",
    "#            station.  If the station has no WMO number (or one has not yet \n",
    "# \t   been matched to this station), then the field is blank.\n",
    "\n",
    "# --------------------------------------------------------------------------------\n",
    "# --------------------------------------------------------------------------------\n",
    "giss = pd.read_fwf('data/v3.temperature.inv.txt',skiprows = 39, header = None,\n",
    "                  colspecs=[(0,3),(3,8),(8,11), (12,44),(44,49), (52,58), (58,63), (63,67), (67,68), (69,73), (73,75), (75, 77), (78,79), (79,81), (81,82),(82,84), (84,100), (100,102), (103,106)])\n",
    "colnames = ['icc country code', 'WMO ID', '3 digit modifier', 'name','lat', 'lon', 'elevation', 'TELe', 'P', 'Pop', 'Tp', 'V', 'Lo', 'Co', 'Airport', 'ds', 'Vege', 'bi', 'BI']\n",
    "giss.columns = colnames\n",
    "\n",
    "# LEGEND  \n",
    "# ======\n",
    "# icc  =3 digit country code; the first digit represents WMO region/continent\n",
    "# WMO_#=5 digit WMO station number\n",
    "# ...  =3 digit modifier; 000 means the station is probably the WMO\n",
    "#       station; 001, etc. mean the station is near that WMO station\n",
    "# Name =30 character station name\n",
    "# Lat  =latitude in degrees, negative = South of Equator\n",
    "# Lon  =longitude in degrees, negative = West of Greenwich (England)\n",
    "# Elev =station elevation in meters, missing is -999\n",
    "# TEle =station elevation interpolated from TerrainBase gridded data set\n",
    "# P    =R if rural (not associated with a town of >10,000 population)\n",
    "#       S if associated with a small town (10,000-50,000 population)\n",
    "#       U if associated with an urban area (>50,000 population)\n",
    "# Pop  =population of the small town or urban area in 1000s\n",
    "#       If rural, no analysis:  -9.\n",
    "# Tp   =general topography around the station:  FL flat; HI hilly,\n",
    "#       MT mountain top; MV mountainous valley or at least not on the top\n",
    "#       of a mountain.\n",
    "# V    =general vegetation near the station based on Operational\n",
    "#       Navigation Charts;  MA marsh; FO forested; IC ice; DE desert;\n",
    "#       CL clear or open;  xx information not provided\n",
    "# Lo   =CO if station is within 30 km from the coast\n",
    "#       LA if station is next to a large (> 25 km**2) lake\n",
    "#       no if neither of the above\n",
    "#       Note: Stations which are both CO and LA will be marked CO\n",
    "# Co   =distance in km to the coast if Lo=CO, else -9\n",
    "# A    =A if the station is at an airport; else x\n",
    "# ds   =distance in km from the airport to its associated\n",
    "#       small town or urban center (not relevant for rural airports\n",
    "#       or non airport stations in which case ds=-9)\n",
    "# Vege =gridded vegetation for the 0.5x0.5 degree grid point closest\n",
    "#       to the station from a gridded vegetation data base. 16 characters.\n",
    "# bi   =brightness index    A=dark B=dim C=bright   (comment added by R.Ruedy)\n",
    "# BI   =brightness index    0=dark -> 256 =bright   (based on satellite night light data)"
   ]
  },
  {
   "cell_type": "markdown",
   "metadata": {
    "collapsed": false
   },
   "source": [
    "see: http://stackoverflow.com/questions/35296935/python-calculate-lots-of-distances-quickly"
   ]
  },
  {
   "cell_type": "code",
   "execution_count": 3,
   "metadata": {
    "collapsed": false
   },
   "outputs": [],
   "source": [
    "# subset the GHCN station list with the list of available stations\n",
    "currentstations = ulmo.ncdc.ghcn_daily.get_stations(start_year=1985, end_year = 2016, elements = ['TMIN', 'TMAX', 'AWND'], as_dataframe=True, update=False)\n",
    "currentGHCNstations = np.intersect1d(currentstations.id, ghcn.index.values) #ghcn['GHCN ID'].values)\n",
    "ghcnSubset = ghcn.set_index('GHCN ID').loc[currentstations.id.values]\n",
    "\n",
    "# at this point, ghcn must have the station id set as the index "
   ]
  },
  {
   "cell_type": "code",
   "execution_count": 5,
   "metadata": {
    "collapsed": false
   },
   "outputs": [],
   "source": [
    "ghcn = ghcn.set_index('GHCN ID').loc[currentstations.id.values]"
   ]
  },
  {
   "cell_type": "code",
   "execution_count": 6,
   "metadata": {
    "collapsed": false
   },
   "outputs": [],
   "source": [
    "# compute distances between all stations\n",
    "#tree = scipy.spatial.cKDTree(giss[['lon', 'lat']].values, leafsize=100)\n",
    "# query the closest point \n",
    "#closestInd = tree.query(giss[['lon', 'lat']].values[11,:], k =2, distance_upper_bound=6)[1][1]"
   ]
  },
  {
   "cell_type": "code",
   "execution_count": 4,
   "metadata": {
    "collapsed": false
   },
   "outputs": [],
   "source": [
    "atlas = pd.read_csv('data/sampleAtlas.csv') # derived  from http://www.naturalearthdata.com/downloads/10m-cultural-vectors/10m-populated-places/\n",
    "atlas = pd.read_csv('data/world_cities.csv')\n",
    "tree = scipy.spatial.cKDTree(ghcn[['lon', 'lat']].values, leafsize=100)\n",
    "#import sys\n",
    "#sys.path.append('/../cityheat/Bmore/2015/')\n",
    "#sys.path.append('/Users/annascott2/mountpoint/cityheat/Bmore/2015/')\n",
    "#import spatialfunctions\n",
    "atlas = atlas[atlas['pop']> 500000]"
   ]
  },
  {
   "cell_type": "code",
   "execution_count": 5,
   "metadata": {
    "collapsed": false
   },
   "outputs": [
    {
     "data": {
      "text/plain": [
       "city                         Baltimore\n",
       "city_ascii                   Baltimore\n",
       "lat                               39.3\n",
       "lng                             -76.62\n",
       "pop                        1.43295e+06\n",
       "country       United States of America\n",
       "iso2                                US\n",
       "iso3                               USA\n",
       "province                      Maryland\n",
       "Name: 7010, dtype: object"
      ]
     },
     "execution_count": 5,
     "metadata": {},
     "output_type": "execute_result"
    }
   ],
   "source": [
    "atlas.iloc[801]"
   ]
  },
  {
   "cell_type": "code",
   "execution_count": 9,
   "metadata": {
    "collapsed": false
   },
   "outputs": [],
   "source": [
    "urban = ghcn.Brightness[closestInds].argmax()"
   ]
  },
  {
   "cell_type": "code",
   "execution_count": null,
   "metadata": {
    "collapsed": false
   },
   "outputs": [],
   "source": []
  },
  {
   "cell_type": "code",
   "execution_count": 8,
   "metadata": {
    "collapsed": false
   },
   "outputs": [
    {
     "data": {
      "text/plain": [
       "80849"
      ]
     },
     "execution_count": 8,
     "metadata": {},
     "output_type": "execute_result"
    }
   ],
   "source": [
    "ghcn.Brightness[closestInds].argmin()"
   ]
  },
  {
   "cell_type": "code",
   "execution_count": 14,
   "metadata": {
    "collapsed": false
   },
   "outputs": [
    {
     "name": "stderr",
     "output_type": "stream",
     "text": [
      "//anaconda/lib/python2.7/site-packages/ulmo/ncdc/ghcn_daily/core.py:89: SettingWithCopyWarning: \n",
      "A value is trying to be set on a copy of a slice from a DataFrame.\n",
      "Try using .loc[row_indexer,col_indexer] = value instead\n",
      "\n",
      "See the caveats in the documentation: http://pandas.pydata.org/pandas-docs/stable/indexing.html#indexing-view-versus-copy\n",
      "  axis=1)\n",
      "//anaconda/lib/python2.7/site-packages/ulmo/ncdc/ghcn_daily/core.py:95: FutureWarning: .resample() is now a deferred operation\n",
      "use .resample(...).mean() instead of .resample(...)\n",
      "  daily_index = element_df.resample('D').index.copy()\n",
      "//anaconda/lib/python2.7/site-packages/ulmo/ncdc/ghcn_daily/core.py:111: SettingWithCopyWarning: \n",
      "A value is trying to be set on a copy of a slice from a DataFrame\n",
      "\n",
      "See the caveats in the documentation: http://pandas.pydata.org/pandas-docs/stable/indexing.html#indexing-view-versus-copy\n",
      "  dataframe[column_name][dates] = element_df[col][months]\n"
     ]
    }
   ],
   "source": [
    "brightness_threshold = 30 # this is the urban/rural threshold delimiter\n",
    "#pairs = []\n",
    "#for i in range(395, atlas.shape[0]): \n",
    "i = 801 # Baltimore\n",
    "lat = atlas.iloc[i]['lat']\n",
    "lon = atlas.iloc[i]['lng']\n",
    "city = atlas.iloc[i]['city']\n",
    "closeststations = tree.query([lon,lat], k =15, distance_upper_bound=1)\n",
    "\n",
    "# Make sure the closest stations are within a finite distance\n",
    "closestInds = closeststations[1][~np.isinf(closeststations[0])]\n",
    "# make sure that there are stations \n",
    "if closestInds.shape[0] > 0 : \n",
    "    urban = ghcn.Brightness[closestInds].argmax()\n",
    "    rural = ghcn.Brightness[closestInds].argmin()\n",
    "    #         if urban != rural: \n",
    "    urban_data = ulmo.ncdc.ghcn_daily.get_data(urban, as_dataframe=True, update=False)\n",
    "    rural_data = ulmo.ncdc.ghcn_daily.get_data(rural, as_dataframe=True, update=False)\n",
    "\n",
    "    number_urban_stations = (ghcn.Brightness[closestInds] >= brightness_threshold).sum() # number of urban stations is equivalent to brightness over 30\n",
    "    number_rural_stations = (ghcn.Brightness[closestInds] < brightness_threshold).sum() # number of rural stations is equivalent to brightness over 30\n",
    "    delta_brightness = 30\n",
    "    break_value = -1"
   ]
  },
  {
   "cell_type": "code",
   "execution_count": 294,
   "metadata": {
    "collapsed": false
   },
   "outputs": [],
   "source": [
    "closeststations = tree.query([lon,lat], k =25, distance_upper_bound=1.25)\n",
    "closestInds = closeststations[1][~np.isinf(closeststations[0])]"
   ]
  },
  {
   "cell_type": "code",
   "execution_count": null,
   "metadata": {
    "collapsed": false,
    "scrolled": true
   },
   "outputs": [],
   "source": []
  },
  {
   "cell_type": "code",
   "execution_count": 288,
   "metadata": {
    "collapsed": false
   },
   "outputs": [],
   "source": [
    "frames = []\n",
    "urban_threshold = 50\n",
    "rural_threshold = 25\n",
    "# define urban stations\n",
    "inds = np.where(ghcn.Brightness[closestInds].values >= urban_threshold) # ghcn id's of stations over threshold brightness\n",
    "urban_stations = ghcn.iloc[closestInds].iloc[inds].index\n",
    "\n",
    "for stations in urban_stations: \n",
    "    # download station \n",
    "    urban_data = ulmo.ncdc.ghcn_daily.get_data(urban, as_dataframe=True, update=False)\n",
    "    frames.append(urban_data['TMIN']['value']['1985-01-01':].astype('float')*.1)\n",
    "\n",
    "urban_composite = pd.concat(frames).resample('D').mean()\n",
    "urban_composite_std = pd.concat(frames).resample('D').std()\n",
    "\n",
    "frames = []\n",
    "inds = np.where(ghcn.Brightness[closestInds].values < rural_threshold) # ghcn id's of stations over threshold brightness\n",
    "rural_stations = ghcn.iloc[closestInds].iloc[inds].index\n",
    "\n",
    "for stations in rural_stations: \n",
    "    # download station \n",
    "    rural_data = ulmo.ncdc.ghcn_daily.get_data(rural, as_dataframe=True, update=False)\n",
    "    frames.append(rural_data['TMIN']['value']['1985-01-01':].astype('float')*.1)\n",
    "\n",
    "rural_composite = pd.concat(frames).resample('D').mean()\n",
    "rural_composite_std = pd.concat(frames).resample('D').std()"
   ]
  },
  {
   "cell_type": "code",
   "execution_count": 351,
   "metadata": {
    "collapsed": false
   },
   "outputs": [],
   "source": [
    "# plotting functions\n",
    "import matplotlib.dates as dates\n",
    "\n",
    "def easy_scatter(x,y,title, xlabel, ylabel) : \n",
    "# plots x,y (need to be np array) and calculates and prints their best fit line\n",
    "    ind = ~np.isnan(y) & ~np.isnan(x) # subset values that aren't NaNs\n",
    "    m,b = np.polyfit(x[ind],y[ind],1)\n",
    "    r = np.corrcoef(x[ind], y[ind])[0,1]\n",
    "    plt.scatter(x,y)\n",
    "    plt.plot(x, m*x+b, color = 'black')\n",
    "    plt.title(title)\n",
    "    plt.ylabel(ylabel)\n",
    "    plt.xlabel(xlabel)\n",
    "    # annotate the linear reqression, y = mx+b\n",
    "    plt.annotate('y = %.2f x + %.2f'%(m,b), xy=(.5, .9), xycoords='axes fraction',  horizontalalignment='left', verticalalignment='bottom')\n",
    "    plt.annotate('r = %.2f'%(r), xy=(.5, .75), xycoords='axes fraction',  horizontalalignment='left', verticalalignment='bottom')\n",
    "\n",
    "#for UHI, temp, heatwaves in zip([UHImin,UHImax], [tmin,tmax], [minheatwaves, maxheatwaves]): \n",
    "def heatwave_scatterplot(UHI, rural_tmin, results_filepath = 'plots/', city = city): \n",
    "# compute heatwave and plot it \n",
    "        numhw = 150\n",
    "        finalhw = 50\n",
    "\n",
    "        hottestmin = rural_tmin.iloc[(-rural_tmin.values).argsort()[:numhw]] \n",
    "        minheatwaves = hottestmin\n",
    "\n",
    "        # Make sure that events aren't duplicates \n",
    "        # get the time difference between events (sorted in temporal order, obviously)\n",
    "        time_diff = (minheatwaves.sort_index().index.to_timestamp().values[1:] - minheatwaves.sort_index().index.to_timestamp().values[:-1]).astype('timedelta64[D]')\n",
    "        # find where the events are not within 2 days of each other\n",
    "        minheatwaves = minheatwaves.sort_index().iloc[np.where(time_diff > np.timedelta64(2, 'D'))]\n",
    "        # Now the heatwaves are sorted in time order, but we want finalhw (50) of the most severe events. Save the hottest events\n",
    "        minheatwaves = minheatwaves.sort_values(ascending=False).iloc[0:finalhw]\n",
    "        \n",
    "        x = rural_tmin[minheatwaves.index]#[np.logical_or(rural_tmin.index.month==6, rural_tmin.index.month==7, rural_tmin.index.month==8)] \n",
    "        y = UHI[minheatwaves.index]#[np.logical_or(UHI.index.month==6, UHI.index.month==7, UHI.index.month==8)] \n",
    "        ind = ~np.isnan(y) & ~np.isnan(x) # subset values that aren't NaNs\n",
    "        \n",
    "        if ind.sum() > 5: \n",
    "            plt.figure()\n",
    "            handle = easy_scatter(x[ind],y[ind],'%s HW Temp vs UHI'%city, 'Rural Temp', 'UHI')\n",
    "            plt.savefig(results_filepath + 'hwUHI%s%s.png'%(city.replace(\" \", \"\")[0:5], 'min'))\n",
    "            #plt.close()\n",
    "            \n",
    "def summertime_scatter(rural_tmin, urban_tmin, results_filepath = 'plots/', city = city):\n",
    "    rural_summer = rural_tmin[np.logical_or(rural_tmin.index.month==6, rural_tmin.index.month==7, rural_tmin.index.month==8)]\n",
    "    urban_summer = urban_tmin[np.logical_or(urban_tmin.index.month==6, urban_tmin.index.month==7, urban_tmin.index.month==8)]\n",
    "\n",
    "    rural_summer = rural_summer[(rural_summer>4) & (rural_summer<35)]\n",
    "    urban_summer = urban_summer[(urban_summer>4) & (urban_summer < 35)]\n",
    "\n",
    "    #calculate UHI\n",
    "    UHI = urban_summer - rural_summer\n",
    "\n",
    "    # Save out the mean temperature and UHI\n",
    "    x = rural_summer\n",
    "    y = UHI\n",
    "\n",
    "    ind = ~np.isnan(y) & ~np.isnan(x) # subset values that aren't NaNs\n",
    "    # plot\n",
    "    fig1 = plt.figure()\n",
    "    handle = easy_scatter(x[ind],y[ind],'%s JJA Temp vs UHI'%city, 'Rural Temp', 'UHI')\n",
    "    filename = results_filepath+ 'hwUHI%s%s.png'%(city.replace(\" \", \"\")[0:5], 'min') + '.png'\n",
    "    plt.savefig(filename)\n",
    "    #plt.close()\n",
    "    \n",
    "def UHI_seasonal_cycle(UHI, rural, temp = 'TMIN', results_filepath = 'plots/', city = city):\n",
    "    time = np.arange('2008-01-01', '2008-12-31', dtype='datetime64[D]')\n",
    "    fig1 = plt.figure()\n",
    "    ax = fig1.add_subplot(1,1,1)\n",
    "    ax.plot(time,\n",
    "            UHI.groupby(UHI.index.day_of_year).mean().rolling(window=30).mean()[0:-1], color = 'k')\n",
    "    ax.fill_between(time, \n",
    "                     UHI.groupby(UHI.index.day_of_year).mean().rolling(window=30).mean()[0:-1]- UHI.groupby(UHI.index.day_of_year).std().rolling(window=21).mean()[0:-1], \n",
    "                     UHI.groupby(UHI.index.day_of_year).mean().rolling(window=30).mean()[0:-1] + UHI.groupby(UHI.index.day_of_year).std().rolling(window=21).mean()[0:-1], color = 'lightgray')\n",
    "\n",
    "    ax.yaxis.tick_left()\n",
    "    ax.xaxis.set_major_formatter(dates.DateFormatter('%b'))\n",
    "    plt.xlabel('Month')\n",
    "    plt.ylabel('UHI')\n",
    "    plt.title('Climatological UHI %s %s'%(temp,city))\n",
    "\n",
    "    max_UHI =  UHI.groupby(UHI.index.day_of_year).mean().rolling(window=21).mean().max()\n",
    "    max_UHI_location =  UHI.groupby(UHI.index.day_of_year).mean().rolling(window=21).mean().argmax()\n",
    "    ax.annotate('max', xy=(max_UHI_location, max_UHI),  xycoords='data',\n",
    "        xytext=(0.8, 0.95), textcoords='axes fraction',\n",
    "        arrowprops=dict(facecolor='black', shrink=0.05),\n",
    "        horizontalalignment='right', verticalalignment='top',\n",
    "        )\n",
    "\n",
    "    ax2 = fig1.add_subplot(111, sharex=ax, frameon=False)\n",
    "    #if rural.groupby(rural.index.day_of_year).mean().rolling(window=21).mean().shape[0] > 365: \n",
    "    line2 = ax2.plot(time, rural.groupby(rural.index.day_of_year).mean().rolling(window=21).mean()[0:365], '-.', color = 'k')\n",
    "    #else : \n",
    "    #    line2 = ax2.plot(time, rural.groupby(rural.index.day_of_year).mean().rolling(window=21).mean(), '-.', color = 'k')\n",
    "\n",
    "    ax2.yaxis.tick_right()\n",
    "    ax2.yaxis.set_label_position(\"right\")\n",
    "    plt.ylabel('Mean Rural %s'%temp)\n",
    "\n",
    "    filename = results_filepath+ 'UHIclimatology'+ city.replace(\" \", \"\")[0:5]+temp+'.png'\n",
    "    plt.savefig(filename)"
   ]
  },
  {
   "cell_type": "code",
   "execution_count": 365,
   "metadata": {
    "collapsed": false
   },
   "outputs": [
    {
     "ename": "IOError",
     "evalue": "[Errno 2] No such file or directory: 'plots/multistation_composites/UHIclimatologyBaltiTMIN.png'",
     "output_type": "error",
     "traceback": [
      "\u001b[0;31m---------------------------------------------------------------------------\u001b[0m",
      "\u001b[0;31mIOError\u001b[0m                                   Traceback (most recent call last)",
      "\u001b[0;32m<ipython-input-365-d300414d29f9>\u001b[0m in \u001b[0;36m<module>\u001b[0;34m()\u001b[0m\n\u001b[1;32m      1\u001b[0m \u001b[0;31m# first, plot yearly UHI cycle\u001b[0m\u001b[0;34m\u001b[0m\u001b[0;34m\u001b[0m\u001b[0m\n\u001b[1;32m      2\u001b[0m \u001b[0mresults_filepath\u001b[0m \u001b[0;34m=\u001b[0m \u001b[0;34m'plots/multistation_composites/'\u001b[0m\u001b[0;34m\u001b[0m\u001b[0m\n\u001b[0;32m----> 3\u001b[0;31m \u001b[0mUHI_seasonal_cycle\u001b[0m\u001b[0;34m(\u001b[0m\u001b[0mUHI\u001b[0m\u001b[0;34m,\u001b[0m \u001b[0mrural\u001b[0m \u001b[0;34m=\u001b[0m \u001b[0mrural_composite\u001b[0m\u001b[0;34m,\u001b[0m \u001b[0mresults_filepath\u001b[0m \u001b[0;34m=\u001b[0m \u001b[0mresults_filepath\u001b[0m\u001b[0;34m,\u001b[0m \u001b[0mcity\u001b[0m \u001b[0;34m=\u001b[0m \u001b[0mcity\u001b[0m\u001b[0;34m)\u001b[0m\u001b[0;34m\u001b[0m\u001b[0m\n\u001b[0m\u001b[1;32m      4\u001b[0m \u001b[0mplt\u001b[0m\u001b[0;34m.\u001b[0m\u001b[0mannotate\u001b[0m\u001b[0;34m(\u001b[0m\u001b[0;34m'Date range: \\n %s - %s'\u001b[0m\u001b[0;34m%\u001b[0m\u001b[0;34m(\u001b[0m\u001b[0mrural_composite\u001b[0m\u001b[0;34m.\u001b[0m\u001b[0mindex\u001b[0m\u001b[0;34m[\u001b[0m\u001b[0;36m0\u001b[0m\u001b[0;34m]\u001b[0m\u001b[0;34m,\u001b[0m \u001b[0mrural_composite\u001b[0m\u001b[0;34m.\u001b[0m\u001b[0mindex\u001b[0m\u001b[0;34m[\u001b[0m\u001b[0;34m-\u001b[0m\u001b[0;36m1\u001b[0m\u001b[0;34m]\u001b[0m\u001b[0;34m)\u001b[0m\u001b[0;34m,\u001b[0m \u001b[0mxy\u001b[0m\u001b[0;34m=\u001b[0m\u001b[0;34m(\u001b[0m\u001b[0;36m.5\u001b[0m\u001b[0;34m,\u001b[0m \u001b[0;36m.05\u001b[0m\u001b[0;34m)\u001b[0m\u001b[0;34m,\u001b[0m \u001b[0mxycoords\u001b[0m\u001b[0;34m=\u001b[0m\u001b[0;34m'axes fraction'\u001b[0m\u001b[0;34m,\u001b[0m  \u001b[0mhorizontalalignment\u001b[0m\u001b[0;34m=\u001b[0m\u001b[0;34m'left'\u001b[0m\u001b[0;34m,\u001b[0m \u001b[0mverticalalignment\u001b[0m\u001b[0;34m=\u001b[0m\u001b[0;34m'bottom'\u001b[0m\u001b[0;34m)\u001b[0m\u001b[0;34m\u001b[0m\u001b[0m\n\u001b[1;32m      5\u001b[0m \u001b[0;34m\u001b[0m\u001b[0m\n",
      "\u001b[0;32m<ipython-input-351-b066dd1b23a4>\u001b[0m in \u001b[0;36mUHI_seasonal_cycle\u001b[0;34m(UHI, rural, temp, results_filepath, city)\u001b[0m\n\u001b[1;32m    100\u001b[0m \u001b[0;34m\u001b[0m\u001b[0m\n\u001b[1;32m    101\u001b[0m     \u001b[0mfilename\u001b[0m \u001b[0;34m=\u001b[0m \u001b[0mresults_filepath\u001b[0m\u001b[0;34m+\u001b[0m \u001b[0;34m'UHIclimatology'\u001b[0m\u001b[0;34m+\u001b[0m \u001b[0mcity\u001b[0m\u001b[0;34m.\u001b[0m\u001b[0mreplace\u001b[0m\u001b[0;34m(\u001b[0m\u001b[0;34m\" \"\u001b[0m\u001b[0;34m,\u001b[0m \u001b[0;34m\"\"\u001b[0m\u001b[0;34m)\u001b[0m\u001b[0;34m[\u001b[0m\u001b[0;36m0\u001b[0m\u001b[0;34m:\u001b[0m\u001b[0;36m5\u001b[0m\u001b[0;34m]\u001b[0m\u001b[0;34m+\u001b[0m\u001b[0mtemp\u001b[0m\u001b[0;34m+\u001b[0m\u001b[0;34m'.png'\u001b[0m\u001b[0;34m\u001b[0m\u001b[0m\n\u001b[0;32m--> 102\u001b[0;31m     \u001b[0mplt\u001b[0m\u001b[0;34m.\u001b[0m\u001b[0msavefig\u001b[0m\u001b[0;34m(\u001b[0m\u001b[0mfilename\u001b[0m\u001b[0;34m)\u001b[0m\u001b[0;34m\u001b[0m\u001b[0m\n\u001b[0m",
      "\u001b[0;32m//anaconda/lib/python2.7/site-packages/matplotlib/pyplot.pyc\u001b[0m in \u001b[0;36msavefig\u001b[0;34m(*args, **kwargs)\u001b[0m\n\u001b[1;32m    686\u001b[0m \u001b[0;32mdef\u001b[0m \u001b[0msavefig\u001b[0m\u001b[0;34m(\u001b[0m\u001b[0;34m*\u001b[0m\u001b[0margs\u001b[0m\u001b[0;34m,\u001b[0m \u001b[0;34m**\u001b[0m\u001b[0mkwargs\u001b[0m\u001b[0;34m)\u001b[0m\u001b[0;34m:\u001b[0m\u001b[0;34m\u001b[0m\u001b[0m\n\u001b[1;32m    687\u001b[0m     \u001b[0mfig\u001b[0m \u001b[0;34m=\u001b[0m \u001b[0mgcf\u001b[0m\u001b[0;34m(\u001b[0m\u001b[0;34m)\u001b[0m\u001b[0;34m\u001b[0m\u001b[0m\n\u001b[0;32m--> 688\u001b[0;31m     \u001b[0mres\u001b[0m \u001b[0;34m=\u001b[0m \u001b[0mfig\u001b[0m\u001b[0;34m.\u001b[0m\u001b[0msavefig\u001b[0m\u001b[0;34m(\u001b[0m\u001b[0;34m*\u001b[0m\u001b[0margs\u001b[0m\u001b[0;34m,\u001b[0m \u001b[0;34m**\u001b[0m\u001b[0mkwargs\u001b[0m\u001b[0;34m)\u001b[0m\u001b[0;34m\u001b[0m\u001b[0m\n\u001b[0m\u001b[1;32m    689\u001b[0m     \u001b[0mfig\u001b[0m\u001b[0;34m.\u001b[0m\u001b[0mcanvas\u001b[0m\u001b[0;34m.\u001b[0m\u001b[0mdraw_idle\u001b[0m\u001b[0;34m(\u001b[0m\u001b[0;34m)\u001b[0m   \u001b[0;31m# need this if 'transparent=True' to reset colors\u001b[0m\u001b[0;34m\u001b[0m\u001b[0m\n\u001b[1;32m    690\u001b[0m     \u001b[0;32mreturn\u001b[0m \u001b[0mres\u001b[0m\u001b[0;34m\u001b[0m\u001b[0m\n",
      "\u001b[0;32m//anaconda/lib/python2.7/site-packages/matplotlib/figure.pyc\u001b[0m in \u001b[0;36msavefig\u001b[0;34m(self, *args, **kwargs)\u001b[0m\n\u001b[1;32m   1563\u001b[0m             \u001b[0mself\u001b[0m\u001b[0;34m.\u001b[0m\u001b[0mset_frameon\u001b[0m\u001b[0;34m(\u001b[0m\u001b[0mframeon\u001b[0m\u001b[0;34m)\u001b[0m\u001b[0;34m\u001b[0m\u001b[0m\n\u001b[1;32m   1564\u001b[0m \u001b[0;34m\u001b[0m\u001b[0m\n\u001b[0;32m-> 1565\u001b[0;31m         \u001b[0mself\u001b[0m\u001b[0;34m.\u001b[0m\u001b[0mcanvas\u001b[0m\u001b[0;34m.\u001b[0m\u001b[0mprint_figure\u001b[0m\u001b[0;34m(\u001b[0m\u001b[0;34m*\u001b[0m\u001b[0margs\u001b[0m\u001b[0;34m,\u001b[0m \u001b[0;34m**\u001b[0m\u001b[0mkwargs\u001b[0m\u001b[0;34m)\u001b[0m\u001b[0;34m\u001b[0m\u001b[0m\n\u001b[0m\u001b[1;32m   1566\u001b[0m \u001b[0;34m\u001b[0m\u001b[0m\n\u001b[1;32m   1567\u001b[0m         \u001b[0;32mif\u001b[0m \u001b[0mframeon\u001b[0m\u001b[0;34m:\u001b[0m\u001b[0;34m\u001b[0m\u001b[0m\n",
      "\u001b[0;32m//anaconda/lib/python2.7/site-packages/matplotlib/backend_bases.pyc\u001b[0m in \u001b[0;36mprint_figure\u001b[0;34m(self, filename, dpi, facecolor, edgecolor, orientation, format, **kwargs)\u001b[0m\n\u001b[1;32m   2230\u001b[0m                 \u001b[0morientation\u001b[0m\u001b[0;34m=\u001b[0m\u001b[0morientation\u001b[0m\u001b[0;34m,\u001b[0m\u001b[0;34m\u001b[0m\u001b[0m\n\u001b[1;32m   2231\u001b[0m                 \u001b[0mbbox_inches_restore\u001b[0m\u001b[0;34m=\u001b[0m\u001b[0m_bbox_inches_restore\u001b[0m\u001b[0;34m,\u001b[0m\u001b[0;34m\u001b[0m\u001b[0m\n\u001b[0;32m-> 2232\u001b[0;31m                 **kwargs)\n\u001b[0m\u001b[1;32m   2233\u001b[0m         \u001b[0;32mfinally\u001b[0m\u001b[0;34m:\u001b[0m\u001b[0;34m\u001b[0m\u001b[0m\n\u001b[1;32m   2234\u001b[0m             \u001b[0;32mif\u001b[0m \u001b[0mbbox_inches\u001b[0m \u001b[0;32mand\u001b[0m \u001b[0mrestore_bbox\u001b[0m\u001b[0;34m:\u001b[0m\u001b[0;34m\u001b[0m\u001b[0m\n",
      "\u001b[0;32m//anaconda/lib/python2.7/site-packages/matplotlib/backends/backend_agg.pyc\u001b[0m in \u001b[0;36mprint_png\u001b[0;34m(self, filename_or_obj, *args, **kwargs)\u001b[0m\n\u001b[1;32m    530\u001b[0m         \u001b[0mrenderer\u001b[0m\u001b[0;34m.\u001b[0m\u001b[0mdpi\u001b[0m \u001b[0;34m=\u001b[0m \u001b[0mself\u001b[0m\u001b[0;34m.\u001b[0m\u001b[0mfigure\u001b[0m\u001b[0;34m.\u001b[0m\u001b[0mdpi\u001b[0m\u001b[0;34m\u001b[0m\u001b[0m\n\u001b[1;32m    531\u001b[0m         \u001b[0;32mif\u001b[0m \u001b[0mis_string_like\u001b[0m\u001b[0;34m(\u001b[0m\u001b[0mfilename_or_obj\u001b[0m\u001b[0;34m)\u001b[0m\u001b[0;34m:\u001b[0m\u001b[0;34m\u001b[0m\u001b[0m\n\u001b[0;32m--> 532\u001b[0;31m             \u001b[0mfilename_or_obj\u001b[0m \u001b[0;34m=\u001b[0m \u001b[0mopen\u001b[0m\u001b[0;34m(\u001b[0m\u001b[0mfilename_or_obj\u001b[0m\u001b[0;34m,\u001b[0m \u001b[0;34m'wb'\u001b[0m\u001b[0;34m)\u001b[0m\u001b[0;34m\u001b[0m\u001b[0m\n\u001b[0m\u001b[1;32m    533\u001b[0m             \u001b[0mclose\u001b[0m \u001b[0;34m=\u001b[0m \u001b[0mTrue\u001b[0m\u001b[0;34m\u001b[0m\u001b[0m\n\u001b[1;32m    534\u001b[0m         \u001b[0;32melse\u001b[0m\u001b[0;34m:\u001b[0m\u001b[0;34m\u001b[0m\u001b[0m\n",
      "\u001b[0;31mIOError\u001b[0m: [Errno 2] No such file or directory: 'plots/multistation_composites/UHIclimatologyBaltiTMIN.png'"
     ]
    },
    {
     "data": {
      "image/png": "[encoded data removed]",
      "text/plain": [
       "<matplotlib.figure.Figure at 0x14aaac3d0>"
      ]
     },
     "metadata": {},
     "output_type": "display_data"
    }
   ],
   "source": [
    "# first, plot yearly UHI cycle\n",
    "results_filepath = 'plots/multistation_composites/'\n",
    "UHI_seasonal_cycle(UHI, rural = rural_composite, results_filepath = results_filepath, city = city)\n",
    "plt.annotate('Date range: \\n %s - %s'%(rural_composite.index[0], rural_composite.index[-1]), xy=(.5, .05), xycoords='axes fraction',  horizontalalignment='left', verticalalignment='bottom')\n",
    "\n",
    "# second, compute JJA scatter of JJA rural temp vs. UHI\n",
    "summertime_scatter(rural_tmin = rural_composite, urban_tmin = urban_composite, city = city, results_filepath=results_filepath)\n",
    "plt.annotate('Date range: \\n %s - %s'%(rural_composite.index[0], rural_composite.index[-1]), xy=(.5, .05), xycoords='axes fraction',  horizontalalignment='left', verticalalignment='bottom')\n",
    "\n",
    "# third, compute HW scatter of rural HW temp vs. UHI\n",
    "heatwave_scatterplot(UHI, rural_tmin = rural_composite, results_filepath = 'plots/', city = city)\n",
    "plt.annotate('Date range: \\n %s - %s'%(rural_composite.index[0], rural_composite.index[-1]), xy=(.5, .05), xycoords='axes fraction',  horizontalalignment='left', verticalalignment='bottom')\n"
   ]
  },
  {
   "cell_type": "code",
   "execution_count": 364,
   "metadata": {
    "collapsed": false
   },
   "outputs": [
    {
     "data": {
      "text/plain": [
       "<matplotlib.text.Annotation at 0x14b109e90>"
      ]
     },
     "execution_count": 364,
     "metadata": {},
     "output_type": "execute_result"
    },
    {
     "data": {
      "image/png": "[encoded data removed]",
      "text/plain": [
       "<matplotlib.figure.Figure at 0x14b109690>"
      ]
     },
     "metadata": {},
     "output_type": "display_data"
    }
   ],
   "source": [
    "heatwave_scatterplot(UHI, rural_tmin = rural_composite, results_filepath = 'plots/', city = city)\n",
    "plt.annotate('Date range: \\n %s - %s'%(rural_composite.index[0], rural_composite.index[-1]), xy=(.5, .05), xycoords='axes fraction',  horizontalalignment='left', verticalalignment='bottom')\n"
   ]
  },
  {
   "cell_type": "code",
   "execution_count": 359,
   "metadata": {
    "collapsed": false
   },
   "outputs": [
    {
     "data": {
      "text/plain": [
       "PeriodIndex(['1985-01-01', '1985-01-02', '1985-01-03', '1985-01-04',\n",
       "             '1985-01-05', '1985-01-06', '1985-01-07', '1985-01-08',\n",
       "             '1985-01-09', '1985-01-10',\n",
       "             ...\n",
       "             '1986-12-22', '1986-12-23', '1986-12-24', '1986-12-25',\n",
       "             '1986-12-26', '1986-12-27', '1986-12-28', '1986-12-29',\n",
       "             '1986-12-30', '1986-12-31'],\n",
       "            dtype='int64', length=730, freq='D')"
      ]
     },
     "execution_count": 359,
     "metadata": {},
     "output_type": "execute_result"
    }
   ],
   "source": [
    "rural_composite.index"
   ]
  },
  {
   "cell_type": "code",
   "execution_count": 355,
   "metadata": {
    "collapsed": true
   },
   "outputs": [],
   "source": [
    "numhw = 150\n",
    "finalhw = 50\n",
    "\n",
    "hottestmin = rural_composite.iloc[(-rural_composite.values).argsort()[:numhw]] \n",
    "minheatwaves = hottestmin\n",
    "\n",
    "# Make sure that events aren't duplicates \n",
    "# get the time difference between events (sorted in temporal order, obviously)\n",
    "time_diff = (minheatwaves.sort_index().index.to_timestamp().values[1:] - minheatwaves.sort_index().index.to_timestamp().values[:-1]).astype('timedelta64[D]')\n",
    "# find where the events are not within 2 days of each other\n",
    "minheatwaves = minheatwaves.sort_index().iloc[np.where(time_diff > np.timedelta64(2, 'D'))]\n",
    "# Now the heatwaves are sorted in time order, but we want finalhw (50) of the most severe events. Save the hottest events\n",
    "minheatwaves = minheatwaves.sort_values(ascending=False).iloc[0:finalhw]"
   ]
  },
  {
   "cell_type": "code",
   "execution_count": 358,
   "metadata": {
    "collapsed": false
   },
   "outputs": [
    {
     "data": {
      "text/plain": [
       "1985-01-01     4.4\n",
       "1985-01-02     1.7\n",
       "1985-01-03    -2.2\n",
       "1985-01-04    -2.8\n",
       "1985-01-05    -3.3\n",
       "1985-01-06    -6.1\n",
       "1985-01-07    -2.8\n",
       "1985-01-08    -6.7\n",
       "1985-01-09   -11.7\n",
       "1985-01-10   -13.3\n",
       "1985-01-11    -9.4\n",
       "1985-01-12   -11.7\n",
       "1985-01-13    -9.4\n",
       "1985-01-14    -7.2\n",
       "1985-01-15   -10.0\n",
       "1985-01-16   -12.8\n",
       "1985-01-17    -6.7\n",
       "1985-01-18    -3.9\n",
       "1985-01-19    -7.8\n",
       "1985-01-20   -22.2\n",
       "1985-01-21   -24.4\n",
       "1985-01-22   -15.0\n",
       "1985-01-23   -10.6\n",
       "1985-01-24    -5.6\n",
       "1985-01-25    -7.2\n",
       "1985-01-26   -11.1\n",
       "1985-01-27   -13.3\n",
       "1985-01-28   -10.0\n",
       "1985-01-29   -10.0\n",
       "1985-01-30   -12.2\n",
       "              ... \n",
       "1986-12-02    -1.7\n",
       "1986-12-03     5.6\n",
       "1986-12-04    -0.6\n",
       "1986-12-05    -5.0\n",
       "1986-12-06    -7.8\n",
       "1986-12-07    -2.8\n",
       "1986-12-08     3.3\n",
       "1986-12-09     3.3\n",
       "1986-12-10     2.8\n",
       "1986-12-11    -1.1\n",
       "1986-12-12    -3.3\n",
       "1986-12-13    -7.8\n",
       "1986-12-14   -12.2\n",
       "1986-12-15    -6.7\n",
       "1986-12-16    -5.0\n",
       "1986-12-17    -1.7\n",
       "1986-12-18    -1.1\n",
       "1986-12-19    -3.3\n",
       "1986-12-20    -3.9\n",
       "1986-12-21    -5.0\n",
       "1986-12-22    -7.8\n",
       "1986-12-23    -7.8\n",
       "1986-12-24    -1.7\n",
       "1986-12-25     3.9\n",
       "1986-12-26     1.7\n",
       "1986-12-27    -2.8\n",
       "1986-12-28    -1.7\n",
       "1986-12-29    -3.9\n",
       "1986-12-30    -7.2\n",
       "1986-12-31    -1.7\n",
       "Freq: D, Name: value, dtype: float64"
      ]
     },
     "execution_count": 358,
     "metadata": {},
     "output_type": "execute_result"
    }
   ],
   "source": [
    "rural_composite"
   ]
  },
  {
   "cell_type": "code",
   "execution_count": null,
   "metadata": {
    "collapsed": true
   },
   "outputs": [],
   "source": []
  },
  {
   "cell_type": "code",
   "execution_count": null,
   "metadata": {
    "collapsed": false
   },
   "outputs": [],
   "source": [
    "# make slope map and/or histogram: edit functions to save out slopes and then aggregate into : \n",
    "# plot slope histograme\n",
    "# data = slopes\n",
    "# data = data[~np.isnan(data)]\n",
    "# plt.figure(figsize=[8,12])\n",
    "# plt.subplot(3,1,1)\n",
    "# plt.hist(data, 20)\n",
    "# plt.title('Slope of regression curve (UHI versus Temp for JJA)')\n",
    "# #plt.xlabel('Slope ($ \\Delta ^{\\circ} /^{\\circ} $)')\n",
    "# plt.ylabel('Count')\n",
    "# plt.annotate('$ \\mu $ = %2.2f'%data.mean(), xy=(.5, .9), xycoords='axes fraction',  horizontalalignment='left', verticalalignment='bottom')\n",
    "# plt.annotate('$ \\sigma $ = %2.2f'%data.std(), xy=(.5, .8), xycoords='axes fraction',  horizontalalignment='left', verticalalignment='bottom')\n",
    "# plt.savefig(results_filepath + 'slopehistogram.png')\n",
    "\n",
    "# # plot correlation histogram\n",
    "# data = correlations\n",
    "# data = data[~np.isnan(data)]\n",
    "# plt.figure(figsize=[8,12])\n",
    "# plt.subplot(3,1,2)\n",
    "# plt.hist(data, 20)\n",
    "# plt.title('Correlation of UHI with Temp for JJA')\n",
    "# #plt.xlabel('Slope ($ \\Delta ^{\\circ} /^{\\circ} $)')\n",
    "# plt.ylabel('Count')\n",
    "# plt.annotate('$ \\mu $ = %2.2f'%data.mean(), xy=(.5, .9), xycoords='axes fraction',  horizontalalignment='left', verticalalignment='bottom')\n",
    "# plt.annotate('$ \\sigma $ = %2.2f'%data.std(), xy=(.5, .8), xycoords='axes fraction',  horizontalalignment='left', verticalalignment='bottom')\n",
    "# plt.savefig(results_filepath + '/correlationhistogram.png')\n",
    "\n",
    "# # make a map of the slopes\n",
    "# fig = plt.figure(figsize=[15,15])\n",
    "# # Define colors \n",
    "# cmap = matplotlib.cm.coolwarm\n",
    "# c = slopes\n",
    "# bounds = np.linspace(-1,1,11)\n",
    "# norm = matplotlib.colors.BoundaryNorm(bounds, cmap.N)\n",
    "# marker_size = 75\n",
    "# # Define the cartopy basemaps\n",
    "# ax = plt.axes(projection=ccrs.PlateCarree())\n",
    "# ax.coastlines()\n",
    "# ind = np.isnan(c)\n",
    "# plotHandle = ax.scatter(paired_df['Urban Lon'], paired_df['Urban Lat'],#x,y,\n",
    "#                         c = c, s = marker_size, transform=ccrs.Geodetic(),\n",
    "#                  cmap = cmap,\n",
    "#                  norm = norm)\n",
    "# # mask insignificantly correlated cities with a white circle\n",
    "# insig_inds = np.where(results_df['P-value']>0.05)\n",
    "\n",
    "# ax.scatter(paired_df['Urban Lon'].iloc[insig_inds], paired_df['Urban Lat'].iloc[insig_inds], \n",
    "#         c = 'none', s = marker_size, transform=ccrs.Geodetic(), edgecolors='white',)\n",
    "\n",
    "# cbar1 = plt.colorbar(plotHandle, label = 'Slope', orientation='horizontal')\n",
    "# plt.title('Slope of UHI vs. Temp')\n",
    "# plt.savefig(results_filepath + 'slopemap.png')"
   ]
  },
  {
   "cell_type": "code",
   "execution_count": null,
   "metadata": {
    "collapsed": false
   },
   "outputs": [],
   "source": []
  },
  {
   "cell_type": "code",
   "execution_count": 353,
   "metadata": {
    "collapsed": true
   },
   "outputs": [],
   "source": []
  },
  {
   "cell_type": "code",
   "execution_count": null,
   "metadata": {
    "collapsed": true
   },
   "outputs": [],
   "source": []
  }
 ],
 "metadata": {
  "kernelspec": {
   "display_name": "Python 2",
   "language": "python",
   "name": "python2"
  },
  "language_info": {
   "codemirror_mode": {
    "name": "ipython",
    "version": 2
   },
   "file_extension": ".py",
   "mimetype": "text/x-python",
   "name": "python",
   "nbconvert_exporter": "python",
   "pygments_lexer": "ipython2",
   "version": "2.7.11"
  }
 },
 "nbformat": 4,
 "nbformat_minor": 0
}
